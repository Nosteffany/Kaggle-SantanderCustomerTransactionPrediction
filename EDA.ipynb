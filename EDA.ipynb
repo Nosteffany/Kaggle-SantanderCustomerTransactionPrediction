{
 "cells": [
  {
   "cell_type": "code",
   "execution_count": 1,
   "id": "bcbaa3ae",
   "metadata": {
    "_cell_guid": "b1076dfc-b9ad-4769-8c92-a6c4dae69d19",
    "_uuid": "8f2839f25d086af736a60e9eeb907d3b93b6e0e5",
    "execution": {
     "iopub.execute_input": "2023-12-19T13:49:39.888835Z",
     "iopub.status.busy": "2023-12-19T13:49:39.887877Z",
     "iopub.status.idle": "2023-12-19T13:49:40.938718Z",
     "shell.execute_reply": "2023-12-19T13:49:40.937549Z"
    },
    "papermill": {
     "duration": 1.065885,
     "end_time": "2023-12-19T13:49:40.941521",
     "exception": false,
     "start_time": "2023-12-19T13:49:39.875636",
     "status": "completed"
    },
    "tags": []
   },
   "outputs": [
    {
     "name": "stdout",
     "output_type": "stream",
     "text": [
      "/kaggle/input/santander-customer-transaction-prediction/sample_submission.csv\n",
      "/kaggle/input/santander-customer-transaction-prediction/train.csv\n",
      "/kaggle/input/santander-customer-transaction-prediction/test.csv\n"
     ]
    }
   ],
   "source": [
    "# This Python 3 environment comes with many helpful analytics libraries installed\n",
    "# It is defined by the kaggle/python Docker image: https://github.com/kaggle/docker-python\n",
    "# For example, here's several helpful packages to load\n",
    "\n",
    "import numpy as np # linear algebra\n",
    "import pandas as pd # data processing, CSV file I/O (e.g. pd.read_csv)\n",
    "\n",
    "# Input data files are available in the read-only \"../input/\" directory\n",
    "# For example, running this (by clicking run or pressing Shift+Enter) will list all files under the input directory\n",
    "\n",
    "import os\n",
    "for dirname, _, filenames in os.walk('/kaggle/input'):\n",
    "    for filename in filenames:\n",
    "        print(os.path.join(dirname, filename))\n",
    "\n",
    "# You can write up to 20GB to the current directory (/kaggle/working/) that gets preserved as output when you create a version using \"Save & Run All\" \n",
    "# You can also write temporary files to /kaggle/temp/, but they won't be saved outside of the current session"
   ]
  },
  {
   "cell_type": "code",
   "execution_count": 2,
   "id": "59ae30f5",
   "metadata": {
    "execution": {
     "iopub.execute_input": "2023-12-19T13:49:40.967338Z",
     "iopub.status.busy": "2023-12-19T13:49:40.965803Z",
     "iopub.status.idle": "2023-12-19T13:50:03.525966Z",
     "shell.execute_reply": "2023-12-19T13:50:03.524657Z"
    },
    "papermill": {
     "duration": 22.57838,
     "end_time": "2023-12-19T13:50:03.531144",
     "exception": false,
     "start_time": "2023-12-19T13:49:40.952764",
     "status": "completed"
    },
    "tags": []
   },
   "outputs": [],
   "source": [
    "train_df = pd.read_csv('/kaggle/input/santander-customer-transaction-prediction/train.csv')\n",
    "test_df = pd.read_csv('/kaggle/input/santander-customer-transaction-prediction/test.csv')"
   ]
  },
  {
   "cell_type": "code",
   "execution_count": 3,
   "id": "624aa358",
   "metadata": {
    "execution": {
     "iopub.execute_input": "2023-12-19T13:50:03.558698Z",
     "iopub.status.busy": "2023-12-19T13:50:03.558265Z",
     "iopub.status.idle": "2023-12-19T13:50:03.613202Z",
     "shell.execute_reply": "2023-12-19T13:50:03.611875Z"
    },
    "papermill": {
     "duration": 0.071088,
     "end_time": "2023-12-19T13:50:03.617955",
     "exception": false,
     "start_time": "2023-12-19T13:50:03.546867",
     "status": "completed"
    },
    "tags": []
   },
   "outputs": [
    {
     "name": "stdout",
     "output_type": "stream",
     "text": [
      "(200000, 202)\n"
     ]
    },
    {
     "data": {
      "text/html": [
       "<div>\n",
       "<style scoped>\n",
       "    .dataframe tbody tr th:only-of-type {\n",
       "        vertical-align: middle;\n",
       "    }\n",
       "\n",
       "    .dataframe tbody tr th {\n",
       "        vertical-align: top;\n",
       "    }\n",
       "\n",
       "    .dataframe thead th {\n",
       "        text-align: right;\n",
       "    }\n",
       "</style>\n",
       "<table border=\"1\" class=\"dataframe\">\n",
       "  <thead>\n",
       "    <tr style=\"text-align: right;\">\n",
       "      <th></th>\n",
       "      <th>ID_code</th>\n",
       "      <th>target</th>\n",
       "      <th>var_0</th>\n",
       "      <th>var_1</th>\n",
       "      <th>var_2</th>\n",
       "      <th>var_3</th>\n",
       "      <th>var_4</th>\n",
       "      <th>var_5</th>\n",
       "      <th>var_6</th>\n",
       "      <th>var_7</th>\n",
       "      <th>...</th>\n",
       "      <th>var_190</th>\n",
       "      <th>var_191</th>\n",
       "      <th>var_192</th>\n",
       "      <th>var_193</th>\n",
       "      <th>var_194</th>\n",
       "      <th>var_195</th>\n",
       "      <th>var_196</th>\n",
       "      <th>var_197</th>\n",
       "      <th>var_198</th>\n",
       "      <th>var_199</th>\n",
       "    </tr>\n",
       "  </thead>\n",
       "  <tbody>\n",
       "    <tr>\n",
       "      <th>0</th>\n",
       "      <td>train_0</td>\n",
       "      <td>0</td>\n",
       "      <td>8.9255</td>\n",
       "      <td>-6.7863</td>\n",
       "      <td>11.9081</td>\n",
       "      <td>5.0930</td>\n",
       "      <td>11.4607</td>\n",
       "      <td>-9.2834</td>\n",
       "      <td>5.1187</td>\n",
       "      <td>18.6266</td>\n",
       "      <td>...</td>\n",
       "      <td>4.4354</td>\n",
       "      <td>3.9642</td>\n",
       "      <td>3.1364</td>\n",
       "      <td>1.6910</td>\n",
       "      <td>18.5227</td>\n",
       "      <td>-2.3978</td>\n",
       "      <td>7.8784</td>\n",
       "      <td>8.5635</td>\n",
       "      <td>12.7803</td>\n",
       "      <td>-1.0914</td>\n",
       "    </tr>\n",
       "    <tr>\n",
       "      <th>1</th>\n",
       "      <td>train_1</td>\n",
       "      <td>0</td>\n",
       "      <td>11.5006</td>\n",
       "      <td>-4.1473</td>\n",
       "      <td>13.8588</td>\n",
       "      <td>5.3890</td>\n",
       "      <td>12.3622</td>\n",
       "      <td>7.0433</td>\n",
       "      <td>5.6208</td>\n",
       "      <td>16.5338</td>\n",
       "      <td>...</td>\n",
       "      <td>7.6421</td>\n",
       "      <td>7.7214</td>\n",
       "      <td>2.5837</td>\n",
       "      <td>10.9516</td>\n",
       "      <td>15.4305</td>\n",
       "      <td>2.0339</td>\n",
       "      <td>8.1267</td>\n",
       "      <td>8.7889</td>\n",
       "      <td>18.3560</td>\n",
       "      <td>1.9518</td>\n",
       "    </tr>\n",
       "    <tr>\n",
       "      <th>2</th>\n",
       "      <td>train_2</td>\n",
       "      <td>0</td>\n",
       "      <td>8.6093</td>\n",
       "      <td>-2.7457</td>\n",
       "      <td>12.0805</td>\n",
       "      <td>7.8928</td>\n",
       "      <td>10.5825</td>\n",
       "      <td>-9.0837</td>\n",
       "      <td>6.9427</td>\n",
       "      <td>14.6155</td>\n",
       "      <td>...</td>\n",
       "      <td>2.9057</td>\n",
       "      <td>9.7905</td>\n",
       "      <td>1.6704</td>\n",
       "      <td>1.6858</td>\n",
       "      <td>21.6042</td>\n",
       "      <td>3.1417</td>\n",
       "      <td>-6.5213</td>\n",
       "      <td>8.2675</td>\n",
       "      <td>14.7222</td>\n",
       "      <td>0.3965</td>\n",
       "    </tr>\n",
       "    <tr>\n",
       "      <th>3</th>\n",
       "      <td>train_3</td>\n",
       "      <td>0</td>\n",
       "      <td>11.0604</td>\n",
       "      <td>-2.1518</td>\n",
       "      <td>8.9522</td>\n",
       "      <td>7.1957</td>\n",
       "      <td>12.5846</td>\n",
       "      <td>-1.8361</td>\n",
       "      <td>5.8428</td>\n",
       "      <td>14.9250</td>\n",
       "      <td>...</td>\n",
       "      <td>4.4666</td>\n",
       "      <td>4.7433</td>\n",
       "      <td>0.7178</td>\n",
       "      <td>1.4214</td>\n",
       "      <td>23.0347</td>\n",
       "      <td>-1.2706</td>\n",
       "      <td>-2.9275</td>\n",
       "      <td>10.2922</td>\n",
       "      <td>17.9697</td>\n",
       "      <td>-8.9996</td>\n",
       "    </tr>\n",
       "    <tr>\n",
       "      <th>4</th>\n",
       "      <td>train_4</td>\n",
       "      <td>0</td>\n",
       "      <td>9.8369</td>\n",
       "      <td>-1.4834</td>\n",
       "      <td>12.8746</td>\n",
       "      <td>6.6375</td>\n",
       "      <td>12.2772</td>\n",
       "      <td>2.4486</td>\n",
       "      <td>5.9405</td>\n",
       "      <td>19.2514</td>\n",
       "      <td>...</td>\n",
       "      <td>-1.4905</td>\n",
       "      <td>9.5214</td>\n",
       "      <td>-0.1508</td>\n",
       "      <td>9.1942</td>\n",
       "      <td>13.2876</td>\n",
       "      <td>-1.5121</td>\n",
       "      <td>3.9267</td>\n",
       "      <td>9.5031</td>\n",
       "      <td>17.9974</td>\n",
       "      <td>-8.8104</td>\n",
       "    </tr>\n",
       "  </tbody>\n",
       "</table>\n",
       "<p>5 rows × 202 columns</p>\n",
       "</div>"
      ],
      "text/plain": [
       "   ID_code  target    var_0   var_1    var_2   var_3    var_4   var_5   var_6  \\\n",
       "0  train_0       0   8.9255 -6.7863  11.9081  5.0930  11.4607 -9.2834  5.1187   \n",
       "1  train_1       0  11.5006 -4.1473  13.8588  5.3890  12.3622  7.0433  5.6208   \n",
       "2  train_2       0   8.6093 -2.7457  12.0805  7.8928  10.5825 -9.0837  6.9427   \n",
       "3  train_3       0  11.0604 -2.1518   8.9522  7.1957  12.5846 -1.8361  5.8428   \n",
       "4  train_4       0   9.8369 -1.4834  12.8746  6.6375  12.2772  2.4486  5.9405   \n",
       "\n",
       "     var_7  ...  var_190  var_191  var_192  var_193  var_194  var_195  \\\n",
       "0  18.6266  ...   4.4354   3.9642   3.1364   1.6910  18.5227  -2.3978   \n",
       "1  16.5338  ...   7.6421   7.7214   2.5837  10.9516  15.4305   2.0339   \n",
       "2  14.6155  ...   2.9057   9.7905   1.6704   1.6858  21.6042   3.1417   \n",
       "3  14.9250  ...   4.4666   4.7433   0.7178   1.4214  23.0347  -1.2706   \n",
       "4  19.2514  ...  -1.4905   9.5214  -0.1508   9.1942  13.2876  -1.5121   \n",
       "\n",
       "   var_196  var_197  var_198  var_199  \n",
       "0   7.8784   8.5635  12.7803  -1.0914  \n",
       "1   8.1267   8.7889  18.3560   1.9518  \n",
       "2  -6.5213   8.2675  14.7222   0.3965  \n",
       "3  -2.9275  10.2922  17.9697  -8.9996  \n",
       "4   3.9267   9.5031  17.9974  -8.8104  \n",
       "\n",
       "[5 rows x 202 columns]"
      ]
     },
     "execution_count": 3,
     "metadata": {},
     "output_type": "execute_result"
    }
   ],
   "source": [
    "print(train_df.shape)\n",
    "train_df.head()"
   ]
  },
  {
   "cell_type": "markdown",
   "id": "6b7c2551",
   "metadata": {
    "papermill": {
     "duration": 0.011821,
     "end_time": "2023-12-19T13:50:03.644782",
     "exception": false,
     "start_time": "2023-12-19T13:50:03.632961",
     "status": "completed"
    },
    "tags": []
   },
   "source": [
    "## Baseline, no DataWrangling"
   ]
  },
  {
   "cell_type": "code",
   "execution_count": 4,
   "id": "71481384",
   "metadata": {
    "execution": {
     "iopub.execute_input": "2023-12-19T13:50:03.668845Z",
     "iopub.status.busy": "2023-12-19T13:50:03.668078Z",
     "iopub.status.idle": "2023-12-19T13:50:06.652580Z",
     "shell.execute_reply": "2023-12-19T13:50:06.650735Z"
    },
    "papermill": {
     "duration": 3.000413,
     "end_time": "2023-12-19T13:50:06.656014",
     "exception": false,
     "start_time": "2023-12-19T13:50:03.655601",
     "status": "completed"
    },
    "tags": []
   },
   "outputs": [],
   "source": [
    "from sklearn.tree import DecisionTreeClassifier\n",
    "from sklearn.ensemble import RandomForestClassifier\n",
    "from sklearn.model_selection import train_test_split\n",
    "\n",
    "X = train_df.iloc[:, 2:]\n",
    "y = train_df['target']\n",
    "\n",
    "X_train, X_val, y_train, y_val = train_test_split(X, y, test_size=0.3)"
   ]
  },
  {
   "cell_type": "code",
   "execution_count": 5,
   "id": "e5db0950",
   "metadata": {
    "execution": {
     "iopub.execute_input": "2023-12-19T13:50:06.678725Z",
     "iopub.status.busy": "2023-12-19T13:50:06.678177Z",
     "iopub.status.idle": "2023-12-19T13:50:06.683941Z",
     "shell.execute_reply": "2023-12-19T13:50:06.682852Z"
    },
    "papermill": {
     "duration": 0.021062,
     "end_time": "2023-12-19T13:50:06.687537",
     "exception": false,
     "start_time": "2023-12-19T13:50:06.666475",
     "status": "completed"
    },
    "tags": []
   },
   "outputs": [],
   "source": [
    "# dtree = DecisionTreeClassifier(max_depth=5, random_state=32)\n",
    "# dtree.fit(X_train, y_train)\n",
    "\n",
    "# rf = RandomForestClassifier(32, random_state=32)\n",
    "# rf.fit(X_train, y_train)\n",
    "\n",
    "# tree_score = dtree.score(X_val, y_val)\n",
    "# forest_score = rf.score(X_val, y_val)\n",
    "\n",
    "# print(f'DecisionTree: {tree_score}')\n",
    "# print(f'RandomForest: {forest_score} ')"
   ]
  },
  {
   "cell_type": "code",
   "execution_count": 6,
   "id": "28f0323a",
   "metadata": {
    "execution": {
     "iopub.execute_input": "2023-12-19T13:50:06.711271Z",
     "iopub.status.busy": "2023-12-19T13:50:06.710180Z",
     "iopub.status.idle": "2023-12-19T13:50:07.251668Z",
     "shell.execute_reply": "2023-12-19T13:50:07.250285Z"
    },
    "papermill": {
     "duration": 0.556221,
     "end_time": "2023-12-19T13:50:07.254580",
     "exception": false,
     "start_time": "2023-12-19T13:50:06.698359",
     "status": "completed"
    },
    "tags": []
   },
   "outputs": [],
   "source": [
    "import matplotlib.pyplot as plt\n",
    "import seaborn as sns"
   ]
  },
  {
   "cell_type": "markdown",
   "id": "81a66550",
   "metadata": {
    "papermill": {
     "duration": 0.009781,
     "end_time": "2023-12-19T13:50:07.275104",
     "exception": false,
     "start_time": "2023-12-19T13:50:07.265323",
     "status": "completed"
    },
    "tags": []
   },
   "source": [
    "## EDA"
   ]
  },
  {
   "cell_type": "code",
   "execution_count": 7,
   "id": "1ca09d3f",
   "metadata": {
    "execution": {
     "iopub.execute_input": "2023-12-19T13:50:07.297182Z",
     "iopub.status.busy": "2023-12-19T13:50:07.296781Z",
     "iopub.status.idle": "2023-12-19T13:50:07.314558Z",
     "shell.execute_reply": "2023-12-19T13:50:07.312554Z"
    },
    "papermill": {
     "duration": 0.0322,
     "end_time": "2023-12-19T13:50:07.317416",
     "exception": false,
     "start_time": "2023-12-19T13:50:07.285216",
     "status": "completed"
    },
    "tags": []
   },
   "outputs": [
    {
     "name": "stdout",
     "output_type": "stream",
     "text": [
      "Train dataset size: 200000\n",
      "Train dataset number of columns: 202\n",
      "Train dataset column types:\n",
      "float64    200\n",
      "object       1\n",
      "int64        1\n",
      "Name: count, dtype: int64\n",
      "Train dataset size: 200000\n",
      "Train dataset number of columns: 201\n",
      "Train dataset column types:\n",
      "float64    200\n",
      "object       1\n",
      "Name: count, dtype: int64\n"
     ]
    }
   ],
   "source": [
    "# Data overview\n",
    "\n",
    "train_shape = train_df.shape\n",
    "n_train_samples = train_shape[0]\n",
    "n_train_columns = train_shape[1]\n",
    "train_dtypes = train_df.dtypes.value_counts()\n",
    "\n",
    "test_shape = test_df.shape\n",
    "n_test_samples = test_shape[0]\n",
    "n_test_columns = test_shape[1]\n",
    "test_dtypes = test_df.dtypes.value_counts()\n",
    "\n",
    "print(f\"Train dataset size: {n_train_samples}\")\n",
    "print(f\"Train dataset number of columns: {n_train_columns}\")\n",
    "print(f\"Train dataset column types:\\n{train_dtypes}\")\n",
    "print(f\"Train dataset size: {n_test_samples}\")\n",
    "print(f\"Train dataset number of columns: {n_test_columns}\")\n",
    "print(f\"Train dataset column types:\\n{test_dtypes}\")"
   ]
  },
  {
   "cell_type": "code",
   "execution_count": 8,
   "id": "f7c4adaa",
   "metadata": {
    "execution": {
     "iopub.execute_input": "2023-12-19T13:50:07.340735Z",
     "iopub.status.busy": "2023-12-19T13:50:07.339882Z",
     "iopub.status.idle": "2023-12-19T13:50:07.529795Z",
     "shell.execute_reply": "2023-12-19T13:50:07.528424Z"
    },
    "papermill": {
     "duration": 0.20484,
     "end_time": "2023-12-19T13:50:07.532582",
     "exception": false,
     "start_time": "2023-12-19T13:50:07.327742",
     "status": "completed"
    },
    "tags": []
   },
   "outputs": [
    {
     "name": "stdout",
     "output_type": "stream",
     "text": [
      "Train set missing values: 0\n",
      "Test set missing values: 0\n"
     ]
    }
   ],
   "source": [
    "# Check missing values\n",
    "print(f\"Train set missing values: {train_df.isna().sum().sum()}\")\n",
    "print(f\"Test set missing values: {test_df.isna().sum().sum()}\")"
   ]
  },
  {
   "cell_type": "code",
   "execution_count": 9,
   "id": "7aaf4967",
   "metadata": {
    "execution": {
     "iopub.execute_input": "2023-12-19T13:50:07.556111Z",
     "iopub.status.busy": "2023-12-19T13:50:07.555669Z",
     "iopub.status.idle": "2023-12-19T13:50:07.792751Z",
     "shell.execute_reply": "2023-12-19T13:50:07.791026Z"
    },
    "papermill": {
     "duration": 0.252335,
     "end_time": "2023-12-19T13:50:07.795634",
     "exception": false,
     "start_time": "2023-12-19T13:50:07.543299",
     "status": "completed"
    },
    "tags": []
   },
   "outputs": [
    {
     "name": "stdout",
     "output_type": "stream",
     "text": [
      "Percent of data labeled as 0: 89.95\n",
      "Percent of data labeled as 1: 10.05\n",
      "Negative class: 179902 samples\n",
      "Positive class: 20098 samples\n"
     ]
    },
    {
     "data": {
      "text/plain": [
       "<Axes: ylabel='count'>"
      ]
     },
     "execution_count": 9,
     "metadata": {},
     "output_type": "execute_result"
    },
    {
     "data": {
      "image/png": "[encoded data removed]",
      "text/plain": [
       "<Figure size 640x480 with 1 Axes>"
      ]
     },
     "metadata": {},
     "output_type": "display_data"
    }
   ],
   "source": [
    "# check classes distribution\n",
    "counts = train_df['target'].value_counts()\n",
    "neg, pos = counts\n",
    "print(f\"Percent of data labeled as 0: {100* (neg / n_train_samples):.2f}\")\n",
    "print(f\"Percent of data labeled as 1: {100* (pos / n_train_samples):.2f}\")\n",
    "print(f'Negative class: {neg} samples')\n",
    "print(f'Positive class: {pos} samples')\n",
    "\n",
    "counts.plot.pie()"
   ]
  },
  {
   "cell_type": "markdown",
   "id": "4708455f",
   "metadata": {
    "papermill": {
     "duration": 0.011726,
     "end_time": "2023-12-19T13:50:07.820350",
     "exception": false,
     "start_time": "2023-12-19T13:50:07.808624",
     "status": "completed"
    },
    "tags": []
   },
   "source": [
    "#### Corelations"
   ]
  },
  {
   "cell_type": "code",
   "execution_count": 10,
   "id": "5c37774a",
   "metadata": {
    "execution": {
     "iopub.execute_input": "2023-12-19T13:50:07.848698Z",
     "iopub.status.busy": "2023-12-19T13:50:07.846676Z",
     "iopub.status.idle": "2023-12-19T13:50:53.123759Z",
     "shell.execute_reply": "2023-12-19T13:50:53.122363Z"
    },
    "papermill": {
     "duration": 45.29455,
     "end_time": "2023-12-19T13:50:53.127336",
     "exception": false,
     "start_time": "2023-12-19T13:50:07.832786",
     "status": "completed"
    },
    "tags": []
   },
   "outputs": [],
   "source": [
    "train_corr = train_df.select_dtypes(['float64', 'int64']).corr()\n",
    "test_corr = test_df.select_dtypes(['float64']).corr()"
   ]
  },
  {
   "cell_type": "code",
   "execution_count": 11,
   "id": "f86505f7",
   "metadata": {
    "execution": {
     "iopub.execute_input": "2023-12-19T13:50:53.153364Z",
     "iopub.status.busy": "2023-12-19T13:50:53.152921Z",
     "iopub.status.idle": "2023-12-19T13:50:53.198754Z",
     "shell.execute_reply": "2023-12-19T13:50:53.197520Z"
    },
    "papermill": {
     "duration": 0.062694,
     "end_time": "2023-12-19T13:50:53.201751",
     "exception": false,
     "start_time": "2023-12-19T13:50:53.139057",
     "status": "completed"
    },
    "tags": []
   },
   "outputs": [],
   "source": [
    "train_corr_ = train_corr.abs().unstack().sort_values(ascending=False).reset_index()\n",
    "train_corr_.rename(columns={'level_0': 'feature1', 'level1': 'feature2',0:'Corelation'},inplace=True)\n",
    "train_corr_.drop(train_corr_.iloc[1::2].index, inplace=True)\n",
    "train_corr_ = train_corr_.drop(train_corr_[train_corr_['Corelation'] == 1.0].index)\n",
    "\n",
    "test_corr_ = test_corr.abs().unstack().sort_values(ascending=False).reset_index()\n",
    "test_corr_.rename(columns={'level_0': 'feature1', 'level1': 'feature2',0:'Corelation'},inplace=True)\n",
    "test_corr_.drop(test_corr_.iloc[1::2].index, inplace=True)\n",
    "test_corr_ = test_corr_.drop(test_corr_[test_corr_['Corelation'] == 1.0].index)"
   ]
  },
  {
   "cell_type": "code",
   "execution_count": 12,
   "id": "00be0a28",
   "metadata": {
    "execution": {
     "iopub.execute_input": "2023-12-19T13:50:53.227473Z",
     "iopub.status.busy": "2023-12-19T13:50:53.226642Z",
     "iopub.status.idle": "2023-12-19T13:50:53.239285Z",
     "shell.execute_reply": "2023-12-19T13:50:53.238127Z"
    },
    "papermill": {
     "duration": 0.028718,
     "end_time": "2023-12-19T13:50:53.242267",
     "exception": false,
     "start_time": "2023-12-19T13:50:53.213549",
     "status": "completed"
    },
    "tags": []
   },
   "outputs": [
    {
     "data": {
      "text/html": [
       "<div>\n",
       "<style scoped>\n",
       "    .dataframe tbody tr th:only-of-type {\n",
       "        vertical-align: middle;\n",
       "    }\n",
       "\n",
       "    .dataframe tbody tr th {\n",
       "        vertical-align: top;\n",
       "    }\n",
       "\n",
       "    .dataframe thead th {\n",
       "        text-align: right;\n",
       "    }\n",
       "</style>\n",
       "<table border=\"1\" class=\"dataframe\">\n",
       "  <thead>\n",
       "    <tr style=\"text-align: right;\">\n",
       "      <th></th>\n",
       "      <th>feature1</th>\n",
       "      <th>level_1</th>\n",
       "      <th>Corelation</th>\n",
       "    </tr>\n",
       "  </thead>\n",
       "  <tbody>\n",
       "    <tr>\n",
       "      <th>202</th>\n",
       "      <td>var_81</td>\n",
       "      <td>target</td>\n",
       "      <td>0.080917</td>\n",
       "    </tr>\n",
       "    <tr>\n",
       "      <th>204</th>\n",
       "      <td>var_139</td>\n",
       "      <td>target</td>\n",
       "      <td>0.074080</td>\n",
       "    </tr>\n",
       "    <tr>\n",
       "      <th>206</th>\n",
       "      <td>var_12</td>\n",
       "      <td>target</td>\n",
       "      <td>0.069489</td>\n",
       "    </tr>\n",
       "    <tr>\n",
       "      <th>208</th>\n",
       "      <td>var_6</td>\n",
       "      <td>target</td>\n",
       "      <td>0.066731</td>\n",
       "    </tr>\n",
       "    <tr>\n",
       "      <th>210</th>\n",
       "      <td>var_110</td>\n",
       "      <td>target</td>\n",
       "      <td>0.064275</td>\n",
       "    </tr>\n",
       "  </tbody>\n",
       "</table>\n",
       "</div>"
      ],
      "text/plain": [
       "    feature1 level_1  Corelation\n",
       "202   var_81  target    0.080917\n",
       "204  var_139  target    0.074080\n",
       "206   var_12  target    0.069489\n",
       "208    var_6  target    0.066731\n",
       "210  var_110  target    0.064275"
      ]
     },
     "execution_count": 12,
     "metadata": {},
     "output_type": "execute_result"
    }
   ],
   "source": [
    "#top highest corelations\n",
    "train_corr_.head()"
   ]
  },
  {
   "cell_type": "code",
   "execution_count": 13,
   "id": "f9c0c4de",
   "metadata": {
    "execution": {
     "iopub.execute_input": "2023-12-19T13:50:53.266818Z",
     "iopub.status.busy": "2023-12-19T13:50:53.266228Z",
     "iopub.status.idle": "2023-12-19T13:50:56.411220Z",
     "shell.execute_reply": "2023-12-19T13:50:56.409910Z"
    },
    "papermill": {
     "duration": 3.160714,
     "end_time": "2023-12-19T13:50:56.414241",
     "exception": false,
     "start_time": "2023-12-19T13:50:53.253527",
     "status": "completed"
    },
    "tags": []
   },
   "outputs": [],
   "source": [
    "# Unique values\n",
    "train_unique = train_df.nunique().sort_values()\n",
    "test_unique = test_df.nunique().sort_values()"
   ]
  },
  {
   "cell_type": "code",
   "execution_count": 14,
   "id": "a78cd580",
   "metadata": {
    "execution": {
     "iopub.execute_input": "2023-12-19T13:50:56.439021Z",
     "iopub.status.busy": "2023-12-19T13:50:56.438577Z",
     "iopub.status.idle": "2023-12-19T13:50:56.450117Z",
     "shell.execute_reply": "2023-12-19T13:50:56.449153Z"
    },
    "papermill": {
     "duration": 0.026791,
     "end_time": "2023-12-19T13:50:56.452588",
     "exception": false,
     "start_time": "2023-12-19T13:50:56.425797",
     "status": "completed"
    },
    "tags": []
   },
   "outputs": [
    {
     "name": "stdout",
     "output_type": "stream",
     "text": [
      "Median of the unique values(Train): 108872.5\n",
      "Min unique value(Train): 451\n",
      "Max unique value(Train): 200000\n",
      "Median of the unique values(Test): 71661.0\n",
      "Min unique value(Test): 7569\n",
      "Max unique value(Test): 200000\n"
     ]
    }
   ],
   "source": [
    "train_unique_median = train_unique.median()\n",
    "top_smallest_train = train_unique.iloc[1:]\n",
    "\n",
    "test_unique_median = test_unique.median()\n",
    "top_smallest_test = test_unique.iloc[1:]\n",
    "\n",
    "print(f\"Median of the unique values(Train): {train_unique_median}\")\n",
    "print(f\"Min unique value(Train): {top_smallest_train.min()}\")\n",
    "print(f\"Max unique value(Train): {top_smallest_train.max()}\")\n",
    "\n",
    "print(f\"Median of the unique values(Test): {test_unique_median}\")\n",
    "print(f\"Min unique value(Test): {top_smallest_test.min()}\")\n",
    "print(f\"Max unique value(Test): {top_smallest_test.max()}\")"
   ]
  },
  {
   "cell_type": "code",
   "execution_count": 15,
   "id": "9d6a5872",
   "metadata": {
    "execution": {
     "iopub.execute_input": "2023-12-19T13:50:56.480073Z",
     "iopub.status.busy": "2023-12-19T13:50:56.479414Z",
     "iopub.status.idle": "2023-12-19T13:51:00.861814Z",
     "shell.execute_reply": "2023-12-19T13:51:00.860252Z"
    },
    "papermill": {
     "duration": 4.399229,
     "end_time": "2023-12-19T13:51:00.865137",
     "exception": false,
     "start_time": "2023-12-19T13:50:56.465908",
     "status": "completed"
    },
    "tags": []
   },
   "outputs": [
    {
     "data": {
      "text/plain": [
       "<matplotlib.legend.Legend at 0x7ade793ff940>"
      ]
     },
     "execution_count": 15,
     "metadata": {},
     "output_type": "execute_result"
    },
    {
     "data": {
      "image/png": "[encoded data removed]",
      "text/plain": [
       "<Figure size 1000x500 with 2 Axes>"
      ]
     },
     "metadata": {},
     "output_type": "display_data"
    }
   ],
   "source": [
    "#Plot all the values to see the shape of the distribution\n",
    "fig, axes = plt.subplots(nrows=1, ncols=2, figsize=(10, 5))\n",
    "axes[0].bar(top_smallest_train.index, top_smallest_train.values)\n",
    "axes[0].set_title('Train data unique values for all features')\n",
    "axes[1].bar(top_smallest_test.index, top_smallest_test.values)\n",
    "axes[1].set_title('Test data  unique values for all features')\n",
    "plt.legend()"
   ]
  },
  {
   "cell_type": "markdown",
   "id": "572e0a9b",
   "metadata": {
    "papermill": {
     "duration": 0.011824,
     "end_time": "2023-12-19T13:51:00.889476",
     "exception": false,
     "start_time": "2023-12-19T13:51:00.877652",
     "status": "completed"
    },
    "tags": []
   },
   "source": [
    "### Target distribution in quantiles\n"
   ]
  },
  {
   "cell_type": "code",
   "execution_count": 16,
   "id": "bf6b0abb",
   "metadata": {
    "execution": {
     "iopub.execute_input": "2023-12-19T13:51:00.915828Z",
     "iopub.status.busy": "2023-12-19T13:51:00.915402Z",
     "iopub.status.idle": "2023-12-19T13:51:54.640305Z",
     "shell.execute_reply": "2023-12-19T13:51:54.639095Z"
    },
    "papermill": {
     "duration": 53.741698,
     "end_time": "2023-12-19T13:51:54.643351",
     "exception": false,
     "start_time": "2023-12-19T13:51:00.901653",
     "status": "completed"
    },
    "tags": []
   },
   "outputs": [],
   "source": [
    "# calculate the percentage of positive class in each quartile for all features\n",
    "# Non effective way\n",
    "# quartiles = train_df.iloc[:, 2:].quantile([0, 0.25, 0.5, 0.75, 1])\n",
    "quartiles = [0, 0.25, 0.5, 0.75]\n",
    "features = train_df.iloc[:,2:].columns\n",
    "quartiles_df = np.zeros((200, 4))\n",
    "\n",
    "for i, feature in enumerate(features):\n",
    "    for j, quartile in (enumerate(quartiles)):\n",
    "        targets = train_df[(train_df[feature] >= train_df[feature].quantile(quartile)) &\\\n",
    "                       (train_df[feature] < train_df[feature].quantile(quartile + 0.25))]['target'].value_counts()\n",
    "        quartiles_df[i,j] = 100 * (targets[1] / sum(targets))"
   ]
  },
  {
   "cell_type": "code",
   "execution_count": 17,
   "id": "3372c706",
   "metadata": {
    "execution": {
     "iopub.execute_input": "2023-12-19T13:51:54.669750Z",
     "iopub.status.busy": "2023-12-19T13:51:54.669279Z",
     "iopub.status.idle": "2023-12-19T13:51:54.993641Z",
     "shell.execute_reply": "2023-12-19T13:51:54.992440Z"
    },
    "papermill": {
     "duration": 0.34066,
     "end_time": "2023-12-19T13:51:54.996261",
     "exception": false,
     "start_time": "2023-12-19T13:51:54.655601",
     "status": "completed"
    },
    "tags": []
   },
   "outputs": [
    {
     "name": "stdout",
     "output_type": "stream",
     "text": [
      "Median percentage of the positive class in each quartile:\n",
      "0.00    10.021101\n",
      "0.25     9.931000\n",
      "0.50     9.938397\n",
      "0.75    10.194204\n",
      "dtype: float64\n"
     ]
    },
    {
     "data": {
      "text/plain": [
       "<matplotlib.legend.Legend at 0x7ade793f9570>"
      ]
     },
     "execution_count": 17,
     "metadata": {},
     "output_type": "execute_result"
    },
    {
     "data": {
      "image/png": "[encoded data removed]",
      "text/plain": [
       "<Figure size 640x480 with 1 Axes>"
      ]
     },
     "metadata": {},
     "output_type": "display_data"
    }
   ],
   "source": [
    "#by calculating median we can see that 1 and 4 quartiles are slightly more saturated with examples of the positive class\n",
    "quart_df = pd.DataFrame(quartiles_df, index=features, columns=quartiles)\n",
    "print(f'Median percentage of the positive class in each quartile:\\n{quart_df.median()}')\n",
    "quart_df.sample(10)\n",
    "\n",
    "quart_max = quart_df.idxmax(axis=1).value_counts()\n",
    "\n",
    "plt.bar(['0', '0.25', '0.5', '0.75'], quart_max.sort_index().values)\n",
    "plt.title('The number of features that have the most positive examples in each quartile')\n",
    "plt.legend()"
   ]
  },
  {
   "cell_type": "code",
   "execution_count": 18,
   "id": "3752dc12",
   "metadata": {
    "execution": {
     "iopub.execute_input": "2023-12-19T13:51:55.024243Z",
     "iopub.status.busy": "2023-12-19T13:51:55.023794Z",
     "iopub.status.idle": "2023-12-19T13:51:55.044489Z",
     "shell.execute_reply": "2023-12-19T13:51:55.043189Z"
    },
    "papermill": {
     "duration": 0.037671,
     "end_time": "2023-12-19T13:51:55.047031",
     "exception": false,
     "start_time": "2023-12-19T13:51:55.009360",
     "status": "completed"
    },
    "tags": []
   },
   "outputs": [
    {
     "data": {
      "text/html": [
       "<div>\n",
       "<style scoped>\n",
       "    .dataframe tbody tr th:only-of-type {\n",
       "        vertical-align: middle;\n",
       "    }\n",
       "\n",
       "    .dataframe tbody tr th {\n",
       "        vertical-align: top;\n",
       "    }\n",
       "\n",
       "    .dataframe thead th {\n",
       "        text-align: right;\n",
       "    }\n",
       "</style>\n",
       "<table border=\"1\" class=\"dataframe\">\n",
       "  <thead>\n",
       "    <tr style=\"text-align: right;\">\n",
       "      <th></th>\n",
       "      <th>Quartile_max</th>\n",
       "      <th>Percentage</th>\n",
       "    </tr>\n",
       "  </thead>\n",
       "  <tbody>\n",
       "    <tr>\n",
       "      <th>var_81</th>\n",
       "      <td>0.00</td>\n",
       "      <td>14.348000</td>\n",
       "    </tr>\n",
       "    <tr>\n",
       "      <th>var_139</th>\n",
       "      <td>0.00</td>\n",
       "      <td>14.144000</td>\n",
       "    </tr>\n",
       "    <tr>\n",
       "      <th>var_110</th>\n",
       "      <td>0.75</td>\n",
       "      <td>13.426269</td>\n",
       "    </tr>\n",
       "    <tr>\n",
       "      <th>var_12</th>\n",
       "      <td>0.00</td>\n",
       "      <td>13.287847</td>\n",
       "    </tr>\n",
       "    <tr>\n",
       "      <th>var_146</th>\n",
       "      <td>0.00</td>\n",
       "      <td>13.154263</td>\n",
       "    </tr>\n",
       "  </tbody>\n",
       "</table>\n",
       "</div>"
      ],
      "text/plain": [
       "         Quartile_max  Percentage\n",
       "var_81           0.00   14.348000\n",
       "var_139          0.00   14.144000\n",
       "var_110          0.75   13.426269\n",
       "var_12           0.00   13.287847\n",
       "var_146          0.00   13.154263"
      ]
     },
     "execution_count": 18,
     "metadata": {},
     "output_type": "execute_result"
    }
   ],
   "source": [
    "# let's find features which contribute most to the impact\n",
    "df_stack = pd.concat([quart_df.idxmax(axis=1), quart_df.max(axis=1)],\n",
    "                     axis=1).rename({0:'Quartile_max', 1:'Percentage'}, axis=1)\n",
    "\n",
    "sorted_df = df_stack.sort_values(by='Percentage', ascending=False)\n",
    "sorted_df.head()"
   ]
  },
  {
   "cell_type": "code",
   "execution_count": 19,
   "id": "28c0089b",
   "metadata": {
    "execution": {
     "iopub.execute_input": "2023-12-19T13:51:55.077287Z",
     "iopub.status.busy": "2023-12-19T13:51:55.076032Z",
     "iopub.status.idle": "2023-12-19T13:51:55.089047Z",
     "shell.execute_reply": "2023-12-19T13:51:55.087605Z"
    },
    "papermill": {
     "duration": 0.030735,
     "end_time": "2023-12-19T13:51:55.091723",
     "exception": false,
     "start_time": "2023-12-19T13:51:55.060988",
     "status": "completed"
    },
    "tags": []
   },
   "outputs": [
    {
     "name": "stdout",
     "output_type": "stream",
     "text": [
      "To sum it up\n",
      "There are 94 features that have the highest positive target percentage in Quartile 1\n",
      "There are 3 features that have the highest positive target percentage in Quartile 2\n",
      "There are 2 features that have the highest positive target percentage in Quartile 3\n",
      "There are 101 features that have the highest positive target percentage in Quartile 4\n",
      "Situation in Quartile 2 and 3 is atypical so those unusual features are: \n",
      "['var_30' 'var_100' 'var_101'] in Quartile 2\n",
      "['var_17' 'var_185'] in Quartile 3\n"
     ]
    }
   ],
   "source": [
    "print(f'To sum it up')\n",
    "for i, qua in enumerate(quartiles):\n",
    "    print(f'There are {quart_max[qua]} features that have the highest positive target percentage in Quartile {i+1}')\n",
    "\n",
    "print('Situation in Quartile 2 and 3 is atypical so those unusual features are: ')\n",
    "print(quart_df[quart_df.idxmax(axis=1) == 0.25].index.values, 'in Quartile 2')\n",
    "print(quart_df[quart_df.idxmax(axis=1) == 0.5].index.values, 'in Quartile 3')\n"
   ]
  },
  {
   "cell_type": "markdown",
   "id": "05748faa",
   "metadata": {
    "papermill": {
     "duration": 0.013476,
     "end_time": "2023-12-19T13:51:55.118456",
     "exception": false,
     "start_time": "2023-12-19T13:51:55.104980",
     "status": "completed"
    },
    "tags": []
   },
   "source": [
    "### Duplicate values"
   ]
  },
  {
   "cell_type": "code",
   "execution_count": 20,
   "id": "c72dd4f6",
   "metadata": {
    "execution": {
     "iopub.execute_input": "2023-12-19T13:51:55.147136Z",
     "iopub.status.busy": "2023-12-19T13:51:55.146464Z",
     "iopub.status.idle": "2023-12-19T13:52:01.926665Z",
     "shell.execute_reply": "2023-12-19T13:52:01.925276Z"
    },
    "papermill": {
     "duration": 6.798403,
     "end_time": "2023-12-19T13:52:01.930052",
     "exception": false,
     "start_time": "2023-12-19T13:51:55.131649",
     "status": "completed"
    },
    "tags": []
   },
   "outputs": [
    {
     "data": {
      "text/html": [
       "<div>\n",
       "<style scoped>\n",
       "    .dataframe tbody tr th:only-of-type {\n",
       "        vertical-align: middle;\n",
       "    }\n",
       "\n",
       "    .dataframe tbody tr th {\n",
       "        vertical-align: top;\n",
       "    }\n",
       "\n",
       "    .dataframe thead th {\n",
       "        text-align: right;\n",
       "    }\n",
       "</style>\n",
       "<table border=\"1\" class=\"dataframe\">\n",
       "  <thead>\n",
       "    <tr style=\"text-align: right;\">\n",
       "      <th></th>\n",
       "      <th>68</th>\n",
       "      <th>108</th>\n",
       "      <th>126</th>\n",
       "      <th>12</th>\n",
       "      <th>91</th>\n",
       "      <th>103</th>\n",
       "      <th>148</th>\n",
       "      <th>71</th>\n",
       "      <th>161</th>\n",
       "      <th>25</th>\n",
       "      <th>125</th>\n",
       "      <th>169</th>\n",
       "      <th>166</th>\n",
       "      <th>133</th>\n",
       "      <th>43</th>\n",
       "    </tr>\n",
       "  </thead>\n",
       "  <tbody>\n",
       "    <tr>\n",
       "      <th>Feature</th>\n",
       "      <td>var_68</td>\n",
       "      <td>var_108</td>\n",
       "      <td>var_126</td>\n",
       "      <td>var_12</td>\n",
       "      <td>var_91</td>\n",
       "      <td>var_103</td>\n",
       "      <td>var_148</td>\n",
       "      <td>var_71</td>\n",
       "      <td>var_161</td>\n",
       "      <td>var_25</td>\n",
       "      <td>var_125</td>\n",
       "      <td>var_169</td>\n",
       "      <td>var_166</td>\n",
       "      <td>var_133</td>\n",
       "      <td>var_43</td>\n",
       "    </tr>\n",
       "    <tr>\n",
       "      <th>Max duplicates</th>\n",
       "      <td>1084</td>\n",
       "      <td>313</td>\n",
       "      <td>305</td>\n",
       "      <td>203</td>\n",
       "      <td>66</td>\n",
       "      <td>61</td>\n",
       "      <td>59</td>\n",
       "      <td>54</td>\n",
       "      <td>52</td>\n",
       "      <td>41</td>\n",
       "      <td>40</td>\n",
       "      <td>39</td>\n",
       "      <td>39</td>\n",
       "      <td>39</td>\n",
       "      <td>39</td>\n",
       "    </tr>\n",
       "    <tr>\n",
       "      <th>Value</th>\n",
       "      <td>5.0214</td>\n",
       "      <td>14.1999</td>\n",
       "      <td>11.5356</td>\n",
       "      <td>13.5545</td>\n",
       "      <td>6.9785</td>\n",
       "      <td>1.6662</td>\n",
       "      <td>4.0456</td>\n",
       "      <td>0.7031</td>\n",
       "      <td>5.7688</td>\n",
       "      <td>13.6723</td>\n",
       "      <td>12.5159</td>\n",
       "      <td>5.6941</td>\n",
       "      <td>2.7306</td>\n",
       "      <td>6.8632</td>\n",
       "      <td>11.5531</td>\n",
       "    </tr>\n",
       "  </tbody>\n",
       "</table>\n",
       "</div>"
      ],
      "text/plain": [
       "                   68       108      126      12      91       103      148  \\\n",
       "Feature         var_68  var_108  var_126   var_12  var_91  var_103  var_148   \n",
       "Max duplicates    1084      313      305      203      66       61       59   \n",
       "Value           5.0214  14.1999  11.5356  13.5545  6.9785   1.6662   4.0456   \n",
       "\n",
       "                   71       161      25       125      169      166      133  \\\n",
       "Feature         var_71  var_161   var_25  var_125  var_169  var_166  var_133   \n",
       "Max duplicates      54       52       41       40       39       39       39   \n",
       "Value           0.7031   5.7688  13.6723  12.5159   5.6941   2.7306   6.8632   \n",
       "\n",
       "                    43   \n",
       "Feature          var_43  \n",
       "Max duplicates       39  \n",
       "Value           11.5531  "
      ]
     },
     "execution_count": 20,
     "metadata": {},
     "output_type": "execute_result"
    }
   ],
   "source": [
    "# features = train_df.iloc[:, 2:]\n",
    "unique_max_train = []\n",
    "unique_max_test = []\n",
    "for feature in features:\n",
    "    values = train_df[feature].value_counts()\n",
    "    unique_max_train.append([feature, values.max(), values.idxmax()])\n",
    "    values = test_df[feature].value_counts()\n",
    "    unique_max_test.append([feature, values.max(), values.idxmax()])\n",
    "    \n",
    "    \n",
    "np.transpose((pd.DataFrame(unique_max_train, columns=['Feature', 'Max duplicates', 'Value'])).\\\n",
    "            sort_values(by = 'Max duplicates', ascending=False).head(15))"
   ]
  },
  {
   "cell_type": "code",
   "execution_count": 21,
   "id": "ab31df85",
   "metadata": {
    "execution": {
     "iopub.execute_input": "2023-12-19T13:52:01.959155Z",
     "iopub.status.busy": "2023-12-19T13:52:01.958689Z",
     "iopub.status.idle": "2023-12-19T13:52:01.984425Z",
     "shell.execute_reply": "2023-12-19T13:52:01.983198Z"
    },
    "papermill": {
     "duration": 0.043853,
     "end_time": "2023-12-19T13:52:01.987354",
     "exception": false,
     "start_time": "2023-12-19T13:52:01.943501",
     "status": "completed"
    },
    "tags": []
   },
   "outputs": [
    {
     "data": {
      "text/html": [
       "<div>\n",
       "<style scoped>\n",
       "    .dataframe tbody tr th:only-of-type {\n",
       "        vertical-align: middle;\n",
       "    }\n",
       "\n",
       "    .dataframe tbody tr th {\n",
       "        vertical-align: top;\n",
       "    }\n",
       "\n",
       "    .dataframe thead th {\n",
       "        text-align: right;\n",
       "    }\n",
       "</style>\n",
       "<table border=\"1\" class=\"dataframe\">\n",
       "  <thead>\n",
       "    <tr style=\"text-align: right;\">\n",
       "      <th></th>\n",
       "      <th>68</th>\n",
       "      <th>126</th>\n",
       "      <th>108</th>\n",
       "      <th>12</th>\n",
       "      <th>91</th>\n",
       "      <th>103</th>\n",
       "      <th>148</th>\n",
       "      <th>161</th>\n",
       "      <th>25</th>\n",
       "      <th>71</th>\n",
       "      <th>43</th>\n",
       "      <th>166</th>\n",
       "      <th>125</th>\n",
       "      <th>169</th>\n",
       "      <th>133</th>\n",
       "    </tr>\n",
       "  </thead>\n",
       "  <tbody>\n",
       "    <tr>\n",
       "      <th>Feature</th>\n",
       "      <td>var_68</td>\n",
       "      <td>var_126</td>\n",
       "      <td>var_108</td>\n",
       "      <td>var_12</td>\n",
       "      <td>var_91</td>\n",
       "      <td>var_103</td>\n",
       "      <td>var_148</td>\n",
       "      <td>var_161</td>\n",
       "      <td>var_25</td>\n",
       "      <td>var_71</td>\n",
       "      <td>var_43</td>\n",
       "      <td>var_166</td>\n",
       "      <td>var_125</td>\n",
       "      <td>var_169</td>\n",
       "      <td>var_133</td>\n",
       "    </tr>\n",
       "    <tr>\n",
       "      <th>Max duplicates</th>\n",
       "      <td>1104</td>\n",
       "      <td>307</td>\n",
       "      <td>302</td>\n",
       "      <td>188</td>\n",
       "      <td>86</td>\n",
       "      <td>78</td>\n",
       "      <td>74</td>\n",
       "      <td>69</td>\n",
       "      <td>60</td>\n",
       "      <td>60</td>\n",
       "      <td>58</td>\n",
       "      <td>53</td>\n",
       "      <td>53</td>\n",
       "      <td>51</td>\n",
       "      <td>50</td>\n",
       "    </tr>\n",
       "    <tr>\n",
       "      <th>Value</th>\n",
       "      <td>5.0197</td>\n",
       "      <td>11.5357</td>\n",
       "      <td>14.1999</td>\n",
       "      <td>13.5546</td>\n",
       "      <td>6.9939</td>\n",
       "      <td>1.4659</td>\n",
       "      <td>4.0004</td>\n",
       "      <td>5.7114</td>\n",
       "      <td>13.5965</td>\n",
       "      <td>0.5389</td>\n",
       "      <td>11.5738</td>\n",
       "      <td>2.8446</td>\n",
       "      <td>12.2189</td>\n",
       "      <td>5.8455</td>\n",
       "      <td>6.6873</td>\n",
       "    </tr>\n",
       "  </tbody>\n",
       "</table>\n",
       "</div>"
      ],
      "text/plain": [
       "                   68       126      108      12      91       103      148  \\\n",
       "Feature         var_68  var_126  var_108   var_12  var_91  var_103  var_148   \n",
       "Max duplicates    1104      307      302      188      86       78       74   \n",
       "Value           5.0197  11.5357  14.1999  13.5546  6.9939   1.4659   4.0004   \n",
       "\n",
       "                    161      25      71       43       166      125      169  \\\n",
       "Feature         var_161   var_25  var_71   var_43  var_166  var_125  var_169   \n",
       "Max duplicates       69       60      60       58       53       53       51   \n",
       "Value            5.7114  13.5965  0.5389  11.5738   2.8446  12.2189   5.8455   \n",
       "\n",
       "                    133  \n",
       "Feature         var_133  \n",
       "Max duplicates       50  \n",
       "Value            6.6873  "
      ]
     },
     "execution_count": 21,
     "metadata": {},
     "output_type": "execute_result"
    }
   ],
   "source": [
    "# Same for test data\n",
    "np.transpose((pd.DataFrame(unique_max_test, columns=['Feature', 'Max duplicates', 'Value'])).\\\n",
    "            sort_values(by = 'Max duplicates', ascending=False).head(15))"
   ]
  },
  {
   "cell_type": "markdown",
   "id": "fe96b36a",
   "metadata": {
    "papermill": {
     "duration": 0.014332,
     "end_time": "2023-12-19T13:52:02.015818",
     "exception": false,
     "start_time": "2023-12-19T13:52:02.001486",
     "status": "completed"
    },
    "tags": []
   },
   "source": [
    "### Feature distributions"
   ]
  },
  {
   "cell_type": "code",
   "execution_count": 22,
   "id": "2f24546a",
   "metadata": {
    "execution": {
     "iopub.execute_input": "2023-12-19T13:52:02.045219Z",
     "iopub.status.busy": "2023-12-19T13:52:02.044777Z",
     "iopub.status.idle": "2023-12-19T13:52:02.050295Z",
     "shell.execute_reply": "2023-12-19T13:52:02.048966Z"
    },
    "papermill": {
     "duration": 0.023251,
     "end_time": "2023-12-19T13:52:02.052799",
     "exception": false,
     "start_time": "2023-12-19T13:52:02.029548",
     "status": "completed"
    },
    "tags": []
   },
   "outputs": [],
   "source": [
    "# n_rows = 50\n",
    "# n_cols = 4\n",
    "# fig, axs = plt.subplots(nrows=n_rows, ncols =n_cols, figsize=(24, n_rows*5))\n",
    "\n",
    "# for i, feature in enumerate(features, 1):\n",
    "#     plt.subplot(n_rows, n_cols, i)\n",
    "#     sns.kdeplot(train_df[feature], bw_method='silverman', label='Training Set', fill=True)\n",
    "#     sns.kdeplot(test_df[feature], bw_method='silverman', label='Training Set', fill=True)\n",
    "    \n",
    "#     plt.tick_params(axis='x', which='major', labelsize=8)\n",
    "#     plt.tick_params(axis='y', which='major', labelsize=8)\n",
    "#     plt.legend()\n",
    "#     plt.title(f'Distribution of {feature} in Training and Test Set')"
   ]
  },
  {
   "cell_type": "markdown",
   "id": "99d04514",
   "metadata": {
    "papermill": {
     "duration": 0.015149,
     "end_time": "2023-12-19T13:52:02.082742",
     "exception": false,
     "start_time": "2023-12-19T13:52:02.067593",
     "status": "completed"
    },
    "tags": []
   },
   "source": [
    "#### So we have imballanced dataset with very different class distributions.\n",
    "#### Test data has a much smaller set of the unique values.\n",
    "#### But, likely, we have 20k samples of the positive class and 170+k samples of the negative. This is more than enough for the model."
   ]
  },
  {
   "cell_type": "markdown",
   "id": "4add0f41",
   "metadata": {
    "papermill": {
     "duration": 0.015397,
     "end_time": "2023-12-19T13:52:02.112451",
     "exception": false,
     "start_time": "2023-12-19T13:52:02.097054",
     "status": "completed"
    },
    "tags": []
   },
   "source": []
  }
 ],
 "metadata": {
  "kaggle": {
   "accelerator": "none",
   "dataSources": [
    {
     "databundleVersionId": 298493,
     "sourceId": 10385,
     "sourceType": "competition"
    }
   ],
   "dockerImageVersionId": 30558,
   "isGpuEnabled": false,
   "isInternetEnabled": true,
   "language": "python",
   "sourceType": "notebook"
  },
  "kernelspec": {
   "display_name": "Python 3",
   "language": "python",
   "name": "python3"
  },
  "language_info": {
   "codemirror_mode": {
    "name": "ipython",
    "version": 3
   },
   "file_extension": ".py",
   "mimetype": "text/x-python",
   "name": "python",
   "nbconvert_exporter": "python",
   "pygments_lexer": "ipython3",
   "version": "3.10.12"
  },
  "papermill": {
   "default_parameters": {},
   "duration": 147.89382,
   "end_time": "2023-12-19T13:52:03.051353",
   "environment_variables": {},
   "exception": null,
   "input_path": "__notebook__.ipynb",
   "output_path": "__notebook__.ipynb",
   "parameters": {},
   "start_time": "2023-12-19T13:49:35.157533",
   "version": "2.4.0"
  }
 },
 "nbformat": 4,
 "nbformat_minor": 5
}
