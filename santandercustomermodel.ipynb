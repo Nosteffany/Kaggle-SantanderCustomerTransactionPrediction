{
 "cells": [
  {
   "cell_type": "code",
   "execution_count": 1,
   "id": "57d00e44",
   "metadata": {
    "_cell_guid": "b1076dfc-b9ad-4769-8c92-a6c4dae69d19",
    "_uuid": "8f2839f25d086af736a60e9eeb907d3b93b6e0e5",
    "execution": {
     "iopub.execute_input": "2023-11-15T13:53:01.822962Z",
     "iopub.status.busy": "2023-11-15T13:53:01.822229Z",
     "iopub.status.idle": "2023-11-15T13:53:02.510496Z",
     "shell.execute_reply": "2023-11-15T13:53:02.509521Z"
    },
    "papermill": {
     "duration": 0.701233,
     "end_time": "2023-11-15T13:53:02.512800",
     "exception": false,
     "start_time": "2023-11-15T13:53:01.811567",
     "status": "completed"
    },
    "tags": []
   },
   "outputs": [
    {
     "name": "stdout",
     "output_type": "stream",
     "text": [
      "/kaggle/input/santander-customer-transaction-prediction/sample_submission.csv\n",
      "/kaggle/input/santander-customer-transaction-prediction/train.csv\n",
      "/kaggle/input/santander-customer-transaction-prediction/test.csv\n"
     ]
    }
   ],
   "source": [
    "# This Python 3 environment comes with many helpful analytics libraries installed\n",
    "# It is defined by the kaggle/python Docker image: https://github.com/kaggle/docker-python\n",
    "# For example, here's several helpful packages to load\n",
    "\n",
    "import numpy as np # linear algebra\n",
    "import pandas as pd # data processing, CSV file I/O (e.g. pd.read_csv)\n",
    "\n",
    "# Input data files are available in the read-only \"../input/\" directory\n",
    "# For example, running this (by clicking run or pressing Shift+Enter) will list all files under the input directory\n",
    "\n",
    "import os\n",
    "for dirname, _, filenames in os.walk('/kaggle/input'):\n",
    "    for filename in filenames:\n",
    "        print(os.path.join(dirname, filename))\n",
    "\n",
    "# You can write up to 20GB to the current directory (/kaggle/working/) that gets preserved as output when you create a version using \"Save & Run All\" \n",
    "# You can also write temporary files to /kaggle/temp/, but they won't be saved outside of the current session"
   ]
  },
  {
   "cell_type": "code",
   "execution_count": 2,
   "id": "654a3622",
   "metadata": {
    "execution": {
     "iopub.execute_input": "2023-11-15T13:53:02.533324Z",
     "iopub.status.busy": "2023-11-15T13:53:02.532893Z",
     "iopub.status.idle": "2023-11-15T13:53:21.767070Z",
     "shell.execute_reply": "2023-11-15T13:53:21.766315Z"
    },
    "papermill": {
     "duration": 19.246391,
     "end_time": "2023-11-15T13:53:21.769426",
     "exception": false,
     "start_time": "2023-11-15T13:53:02.523035",
     "status": "completed"
    },
    "tags": []
   },
   "outputs": [],
   "source": [
    "df_train = pd.read_csv(\"/kaggle/input/santander-customer-transaction-prediction/train.csv\")\n",
    "df_test = pd.read_csv(\"/kaggle/input/santander-customer-transaction-prediction/test.csv\")"
   ]
  },
  {
   "cell_type": "markdown",
   "id": "0e58cee6",
   "metadata": {
    "papermill": {
     "duration": 0.008844,
     "end_time": "2023-11-15T13:53:21.787549",
     "exception": false,
     "start_time": "2023-11-15T13:53:21.778705",
     "status": "completed"
    },
    "tags": []
   },
   "source": [
    "1) Use 20k out of 170k negative examples and all 20k positive\\\n",
    "2) Split them on train & val sets\\\n",
    "3) Train model with cv and no cv"
   ]
  },
  {
   "cell_type": "code",
   "execution_count": 3,
   "id": "e214aa23",
   "metadata": {
    "execution": {
     "iopub.execute_input": "2023-11-15T13:53:21.806346Z",
     "iopub.status.busy": "2023-11-15T13:53:21.806046Z",
     "iopub.status.idle": "2023-11-15T13:53:23.058916Z",
     "shell.execute_reply": "2023-11-15T13:53:23.058117Z"
    },
    "papermill": {
     "duration": 1.264791,
     "end_time": "2023-11-15T13:53:23.061192",
     "exception": false,
     "start_time": "2023-11-15T13:53:21.796401",
     "status": "completed"
    },
    "tags": []
   },
   "outputs": [
    {
     "name": "stderr",
     "output_type": "stream",
     "text": [
      "/opt/conda/lib/python3.10/site-packages/scipy/__init__.py:146: UserWarning: A NumPy version >=1.16.5 and <1.23.0 is required for this version of SciPy (detected version 1.23.5\n",
      "  warnings.warn(f\"A NumPy version >={np_minversion} and <{np_maxversion}\"\n"
     ]
    }
   ],
   "source": [
    "import matplotlib.pyplot as plt\n",
    "\n",
    "from sklearn.model_selection import train_test_split\n",
    "from sklearn.tree import DecisionTreeClassifier\n",
    "\n",
    "from sklearn.metrics import accuracy_score, f1_score, roc_auc_score, precision_score, recall_score\n",
    "import xgboost as xgb"
   ]
  },
  {
   "cell_type": "markdown",
   "id": "6fb8217f",
   "metadata": {
    "papermill": {
     "duration": 0.008804,
     "end_time": "2023-11-15T13:53:23.079395",
     "exception": false,
     "start_time": "2023-11-15T13:53:23.070591",
     "status": "completed"
    },
    "tags": []
   },
   "source": [
    "# Models with no data preprocessing and feature engineering"
   ]
  },
  {
   "cell_type": "code",
   "execution_count": 4,
   "id": "625dce71",
   "metadata": {
    "execution": {
     "iopub.execute_input": "2023-11-15T13:53:23.098549Z",
     "iopub.status.busy": "2023-11-15T13:53:23.097821Z",
     "iopub.status.idle": "2023-11-15T13:53:23.882232Z",
     "shell.execute_reply": "2023-11-15T13:53:23.881237Z"
    },
    "papermill": {
     "duration": 0.796443,
     "end_time": "2023-11-15T13:53:23.884625",
     "exception": false,
     "start_time": "2023-11-15T13:53:23.088182",
     "status": "completed"
    },
    "tags": []
   },
   "outputs": [],
   "source": [
    "X = df_train.sample(200000)\n",
    "X_train, X_val, y_train, y_val = train_test_split(X.iloc[:,2:], X['target'], stratify=X['target'], test_size=0.25)\n",
    "X_val, X_test, y_val, y_test = train_test_split(X_val, y_val, test_size=0.5)"
   ]
  },
  {
   "cell_type": "code",
   "execution_count": 5,
   "id": "71ceac59",
   "metadata": {
    "execution": {
     "iopub.execute_input": "2023-11-15T13:53:23.904106Z",
     "iopub.status.busy": "2023-11-15T13:53:23.903777Z",
     "iopub.status.idle": "2023-11-15T13:53:36.646428Z",
     "shell.execute_reply": "2023-11-15T13:53:36.645512Z"
    },
    "papermill": {
     "duration": 12.754446,
     "end_time": "2023-11-15T13:53:36.648402",
     "exception": false,
     "start_time": "2023-11-15T13:53:23.893956",
     "status": "completed"
    },
    "tags": []
   },
   "outputs": [
    {
     "name": "stdout",
     "output_type": "stream",
     "text": [
      "[13:53:26] WARNING: ../src/learner.cc:767: \n",
      "Parameters: { \"device\" } are not used.\n",
      "\n",
      "CPU times: user 49.6 s, sys: 248 ms, total: 49.8 s\n",
      "Wall time: 12.7 s\n"
     ]
    },
    {
     "data": {
      "text/html": [
       "<style>#sk-container-id-1 {color: black;background-color: white;}#sk-container-id-1 pre{padding: 0;}#sk-container-id-1 div.sk-toggleable {background-color: white;}#sk-container-id-1 label.sk-toggleable__label {cursor: pointer;display: block;width: 100%;margin-bottom: 0;padding: 0.3em;box-sizing: border-box;text-align: center;}#sk-container-id-1 label.sk-toggleable__label-arrow:before {content: \"▸\";float: left;margin-right: 0.25em;color: #696969;}#sk-container-id-1 label.sk-toggleable__label-arrow:hover:before {color: black;}#sk-container-id-1 div.sk-estimator:hover label.sk-toggleable__label-arrow:before {color: black;}#sk-container-id-1 div.sk-toggleable__content {max-height: 0;max-width: 0;overflow: hidden;text-align: left;background-color: #f0f8ff;}#sk-container-id-1 div.sk-toggleable__content pre {margin: 0.2em;color: black;border-radius: 0.25em;background-color: #f0f8ff;}#sk-container-id-1 input.sk-toggleable__control:checked~div.sk-toggleable__content {max-height: 200px;max-width: 100%;overflow: auto;}#sk-container-id-1 input.sk-toggleable__control:checked~label.sk-toggleable__label-arrow:before {content: \"▾\";}#sk-container-id-1 div.sk-estimator input.sk-toggleable__control:checked~label.sk-toggleable__label {background-color: #d4ebff;}#sk-container-id-1 div.sk-label input.sk-toggleable__control:checked~label.sk-toggleable__label {background-color: #d4ebff;}#sk-container-id-1 input.sk-hidden--visually {border: 0;clip: rect(1px 1px 1px 1px);clip: rect(1px, 1px, 1px, 1px);height: 1px;margin: -1px;overflow: hidden;padding: 0;position: absolute;width: 1px;}#sk-container-id-1 div.sk-estimator {font-family: monospace;background-color: #f0f8ff;border: 1px dotted black;border-radius: 0.25em;box-sizing: border-box;margin-bottom: 0.5em;}#sk-container-id-1 div.sk-estimator:hover {background-color: #d4ebff;}#sk-container-id-1 div.sk-parallel-item::after {content: \"\";width: 100%;border-bottom: 1px solid gray;flex-grow: 1;}#sk-container-id-1 div.sk-label:hover label.sk-toggleable__label {background-color: #d4ebff;}#sk-container-id-1 div.sk-serial::before {content: \"\";position: absolute;border-left: 1px solid gray;box-sizing: border-box;top: 0;bottom: 0;left: 50%;z-index: 0;}#sk-container-id-1 div.sk-serial {display: flex;flex-direction: column;align-items: center;background-color: white;padding-right: 0.2em;padding-left: 0.2em;position: relative;}#sk-container-id-1 div.sk-item {position: relative;z-index: 1;}#sk-container-id-1 div.sk-parallel {display: flex;align-items: stretch;justify-content: center;background-color: white;position: relative;}#sk-container-id-1 div.sk-item::before, #sk-container-id-1 div.sk-parallel-item::before {content: \"\";position: absolute;border-left: 1px solid gray;box-sizing: border-box;top: 0;bottom: 0;left: 50%;z-index: -1;}#sk-container-id-1 div.sk-parallel-item {display: flex;flex-direction: column;z-index: 1;position: relative;background-color: white;}#sk-container-id-1 div.sk-parallel-item:first-child::after {align-self: flex-end;width: 50%;}#sk-container-id-1 div.sk-parallel-item:last-child::after {align-self: flex-start;width: 50%;}#sk-container-id-1 div.sk-parallel-item:only-child::after {width: 0;}#sk-container-id-1 div.sk-dashed-wrapped {border: 1px dashed gray;margin: 0 0.4em 0.5em 0.4em;box-sizing: border-box;padding-bottom: 0.4em;background-color: white;}#sk-container-id-1 div.sk-label label {font-family: monospace;font-weight: bold;display: inline-block;line-height: 1.2em;}#sk-container-id-1 div.sk-label-container {text-align: center;}#sk-container-id-1 div.sk-container {/* jupyter's `normalize.less` sets `[hidden] { display: none; }` but bootstrap.min.css set `[hidden] { display: none !important; }` so we also need the `!important` here to be able to override the default hidden behavior on the sphinx rendered scikit-learn.org. See: https://github.com/scikit-learn/scikit-learn/issues/21755 */display: inline-block !important;position: relative;}#sk-container-id-1 div.sk-text-repr-fallback {display: none;}</style><div id=\"sk-container-id-1\" class=\"sk-top-container\"><div class=\"sk-text-repr-fallback\"><pre>XGBClassifier(base_score=None, booster=None, callbacks=None,\n",
       "              colsample_bylevel=None, colsample_bynode=None,\n",
       "              colsample_bytree=None, device=&#x27;gpu&#x27;, early_stopping_rounds=2,\n",
       "              enable_categorical=False, eval_metric=None, feature_types=None,\n",
       "              gamma=None, gpu_id=None, grow_policy=None, importance_type=None,\n",
       "              interaction_constraints=None, learning_rate=None, max_bin=None,\n",
       "              max_cat_threshold=None, max_cat_to_onehot=None,\n",
       "              max_delta_step=None, max_depth=None, max_leaves=None,\n",
       "              min_child_weight=None, missing=nan, monotone_constraints=None,\n",
       "              n_estimators=100, n_jobs=None, num_parallel_tree=None,\n",
       "              predictor=None, ...)</pre><b>In a Jupyter environment, please rerun this cell to show the HTML representation or trust the notebook. <br />On GitHub, the HTML representation is unable to render, please try loading this page with nbviewer.org.</b></div><div class=\"sk-container\" hidden><div class=\"sk-item\"><div class=\"sk-estimator sk-toggleable\"><input class=\"sk-toggleable__control sk-hidden--visually\" id=\"sk-estimator-id-1\" type=\"checkbox\" checked><label for=\"sk-estimator-id-1\" class=\"sk-toggleable__label sk-toggleable__label-arrow\">XGBClassifier</label><div class=\"sk-toggleable__content\"><pre>XGBClassifier(base_score=None, booster=None, callbacks=None,\n",
       "              colsample_bylevel=None, colsample_bynode=None,\n",
       "              colsample_bytree=None, device=&#x27;gpu&#x27;, early_stopping_rounds=2,\n",
       "              enable_categorical=False, eval_metric=None, feature_types=None,\n",
       "              gamma=None, gpu_id=None, grow_policy=None, importance_type=None,\n",
       "              interaction_constraints=None, learning_rate=None, max_bin=None,\n",
       "              max_cat_threshold=None, max_cat_to_onehot=None,\n",
       "              max_delta_step=None, max_depth=None, max_leaves=None,\n",
       "              min_child_weight=None, missing=nan, monotone_constraints=None,\n",
       "              n_estimators=100, n_jobs=None, num_parallel_tree=None,\n",
       "              predictor=None, ...)</pre></div></div></div></div></div>"
      ],
      "text/plain": [
       "XGBClassifier(base_score=None, booster=None, callbacks=None,\n",
       "              colsample_bylevel=None, colsample_bynode=None,\n",
       "              colsample_bytree=None, device='gpu', early_stopping_rounds=2,\n",
       "              enable_categorical=False, eval_metric=None, feature_types=None,\n",
       "              gamma=None, gpu_id=None, grow_policy=None, importance_type=None,\n",
       "              interaction_constraints=None, learning_rate=None, max_bin=None,\n",
       "              max_cat_threshold=None, max_cat_to_onehot=None,\n",
       "              max_delta_step=None, max_depth=None, max_leaves=None,\n",
       "              min_child_weight=None, missing=nan, monotone_constraints=None,\n",
       "              n_estimators=100, n_jobs=None, num_parallel_tree=None,\n",
       "              predictor=None, ...)"
      ]
     },
     "execution_count": 5,
     "metadata": {},
     "output_type": "execute_result"
    }
   ],
   "source": [
    "%%time\n",
    "xgb_model = xgb.XGBClassifier(tree_method='hist', early_stopping_rounds=2, device='gpu')\n",
    "xgb_model.fit(X_train, y_train, eval_set=[(X_val, y_val)], verbose=0)"
   ]
  },
  {
   "cell_type": "code",
   "execution_count": 6,
   "id": "e4c42a67",
   "metadata": {
    "execution": {
     "iopub.execute_input": "2023-11-15T13:53:36.668653Z",
     "iopub.status.busy": "2023-11-15T13:53:36.668361Z",
     "iopub.status.idle": "2023-11-15T13:53:36.674568Z",
     "shell.execute_reply": "2023-11-15T13:53:36.673650Z"
    },
    "papermill": {
     "duration": 0.018437,
     "end_time": "2023-11-15T13:53:36.676496",
     "exception": false,
     "start_time": "2023-11-15T13:53:36.658059",
     "status": "completed"
    },
    "tags": []
   },
   "outputs": [],
   "source": [
    "def validate_model(model, X_val, y_val):\n",
    "    predictions = model.predict(X_val)    \n",
    "    metrics = [accuracy_score, f1_score, roc_auc_score,\n",
    "               precision_score, recall_score]\n",
    "    for metric in metrics:\n",
    "        print(f\"{metric.__name__}: {metric(y_val, predictions.round())}\")\n",
    "        \n",
    "def make_submission(model, data):\n",
    "    ids = data['ID_code']\n",
    "    preds = model.predict_proba(data.iloc[:, 1:])\n",
    "    pd.DataFrame(data=zip(ids, preds[:,1]), columns=['ID_code', 'target']).to_csv(\"submission.csv\", index=False)"
   ]
  },
  {
   "cell_type": "code",
   "execution_count": 7,
   "id": "7d490583",
   "metadata": {
    "execution": {
     "iopub.execute_input": "2023-11-15T13:53:36.696858Z",
     "iopub.status.busy": "2023-11-15T13:53:36.696589Z",
     "iopub.status.idle": "2023-11-15T13:53:36.782679Z",
     "shell.execute_reply": "2023-11-15T13:53:36.781650Z"
    },
    "papermill": {
     "duration": 0.098439,
     "end_time": "2023-11-15T13:53:36.784688",
     "exception": false,
     "start_time": "2023-11-15T13:53:36.686249",
     "status": "completed"
    },
    "tags": []
   },
   "outputs": [
    {
     "name": "stdout",
     "output_type": "stream",
     "text": [
      "accuracy_score: 0.91212\n",
      "f1_score: 0.335249621785174\n",
      "roc_auc_score: 0.6051776056264065\n",
      "precision_score: 0.6899128268991283\n",
      "recall_score: 0.2214228617106315\n"
     ]
    }
   ],
   "source": [
    "validate_model(xgb_model, X_val, y_val)"
   ]
  },
  {
   "cell_type": "markdown",
   "id": "5e3b2995",
   "metadata": {
    "papermill": {
     "duration": 0.009157,
     "end_time": "2023-11-15T13:53:36.803608",
     "exception": false,
     "start_time": "2023-11-15T13:53:36.794451",
     "status": "completed"
    },
    "tags": []
   },
   "source": [
    "## Grid Search hyperparameters"
   ]
  },
  {
   "cell_type": "code",
   "execution_count": 8,
   "id": "6a856575",
   "metadata": {
    "execution": {
     "iopub.execute_input": "2023-11-15T13:53:36.823827Z",
     "iopub.status.busy": "2023-11-15T13:53:36.823187Z",
     "iopub.status.idle": "2023-11-15T13:53:36.827434Z",
     "shell.execute_reply": "2023-11-15T13:53:36.826533Z"
    },
    "papermill": {
     "duration": 0.016304,
     "end_time": "2023-11-15T13:53:36.829309",
     "exception": false,
     "start_time": "2023-11-15T13:53:36.813005",
     "status": "completed"
    },
    "tags": []
   },
   "outputs": [],
   "source": [
    "# %%time\n",
    "# from sklearn.model_selection import RandomizedSearchCV, GridSearchCV\n",
    "\n",
    "# param_grid = {\n",
    "#     \"max_depth\": [4,5,6,7],\n",
    "#     \"learning_rate\": [0.2, 0.1, 0.05, 0.01],\n",
    "#     \"subsample\": [0.5, 0.7, 1]\n",
    "# }\n",
    "\n",
    "# estim = xgb.XGBClassifier(tree_method='gpu_hist', device='gpu')\n",
    "\n",
    "# grid_search = GridSearchCV(estim, param_grid, scoring='roc_auc', n_jobs=-1, cv=5)\n",
    "# grid_search.fit(X_train, y_train)"
   ]
  },
  {
   "cell_type": "markdown",
   "id": "5bda74f7",
   "metadata": {
    "papermill": {
     "duration": 0.009457,
     "end_time": "2023-11-15T13:53:36.848166",
     "exception": false,
     "start_time": "2023-11-15T13:53:36.838709",
     "status": "completed"
    },
    "tags": []
   },
   "source": [
    "## Random Search hyperparameters"
   ]
  },
  {
   "cell_type": "code",
   "execution_count": 9,
   "id": "5a247572",
   "metadata": {
    "execution": {
     "iopub.execute_input": "2023-11-15T13:53:36.868534Z",
     "iopub.status.busy": "2023-11-15T13:53:36.868286Z",
     "iopub.status.idle": "2023-11-15T13:53:36.872467Z",
     "shell.execute_reply": "2023-11-15T13:53:36.871597Z"
    },
    "papermill": {
     "duration": 0.016577,
     "end_time": "2023-11-15T13:53:36.874271",
     "exception": false,
     "start_time": "2023-11-15T13:53:36.857694",
     "status": "completed"
    },
    "tags": []
   },
   "outputs": [],
   "source": [
    "# %%time\n",
    "# import scipy.stats as stats\n",
    "\n",
    "# param_dist = {\n",
    "#     \"min_child_weight\": stats.uniform(0, 5),\n",
    "#     \"colsample_bytree\": stats.uniform(0.5, 0.5),\n",
    "#     \"reg_alpha\": stats.uniform(0, 1),\n",
    "#     \"learning_rate\": stats.uniform(0.01, 0.5)\n",
    "# }\n",
    "\n",
    "# estim = xgb.XGBClassifier(tree_method='gpu_hist')\n",
    "# random_search = RandomizedSearchCV(estim, param_dist, n_iter=25, cv=5, scoring=\"roc_auc\")\n",
    "# random_search.fit(X_train, y_train)"
   ]
  },
  {
   "cell_type": "markdown",
   "id": "47c39b9b",
   "metadata": {
    "papermill": {
     "duration": 0.009271,
     "end_time": "2023-11-15T13:53:36.892959",
     "exception": false,
     "start_time": "2023-11-15T13:53:36.883688",
     "status": "completed"
    },
    "tags": []
   },
   "source": [
    "## Train Model using best parameters of Grid Search and Random Search"
   ]
  },
  {
   "cell_type": "code",
   "execution_count": 10,
   "id": "a784238d",
   "metadata": {
    "execution": {
     "iopub.execute_input": "2023-11-15T13:53:36.912854Z",
     "iopub.status.busy": "2023-11-15T13:53:36.912386Z",
     "iopub.status.idle": "2023-11-15T13:53:36.916054Z",
     "shell.execute_reply": "2023-11-15T13:53:36.915227Z"
    },
    "papermill": {
     "duration": 0.015644,
     "end_time": "2023-11-15T13:53:36.917927",
     "exception": false,
     "start_time": "2023-11-15T13:53:36.902283",
     "status": "completed"
    },
    "tags": []
   },
   "outputs": [],
   "source": [
    "# best_p = random_search.best_params_"
   ]
  },
  {
   "cell_type": "code",
   "execution_count": 11,
   "id": "cb4766b0",
   "metadata": {
    "execution": {
     "iopub.execute_input": "2023-11-15T13:53:36.937677Z",
     "iopub.status.busy": "2023-11-15T13:53:36.937415Z",
     "iopub.status.idle": "2023-11-15T13:53:36.941009Z",
     "shell.execute_reply": "2023-11-15T13:53:36.940174Z"
    },
    "papermill": {
     "duration": 0.015624,
     "end_time": "2023-11-15T13:53:36.942953",
     "exception": false,
     "start_time": "2023-11-15T13:53:36.927329",
     "status": "completed"
    },
    "tags": []
   },
   "outputs": [],
   "source": [
    "# model = xgb.XGBClassifier(**best_p, tree_method='gpu_hist', early_stopping_rounds=2, n_estimators=1000)\n",
    "# model.fit(X_train, y_train, eval_set=[(X_val, y_val)], verbose=0)\n",
    "# validate_model(model, X_val, y_val)"
   ]
  },
  {
   "cell_type": "markdown",
   "id": "1f5bceea",
   "metadata": {
    "papermill": {
     "duration": 0.009152,
     "end_time": "2023-11-15T13:53:36.961585",
     "exception": false,
     "start_time": "2023-11-15T13:53:36.952433",
     "status": "completed"
    },
    "tags": []
   },
   "source": [
    "## Try Baesian Optimization (Hyperopt)"
   ]
  },
  {
   "cell_type": "code",
   "execution_count": 12,
   "id": "f1717dd5",
   "metadata": {
    "execution": {
     "iopub.execute_input": "2023-11-15T13:53:36.981473Z",
     "iopub.status.busy": "2023-11-15T13:53:36.981209Z",
     "iopub.status.idle": "2023-11-15T13:58:55.326285Z",
     "shell.execute_reply": "2023-11-15T13:58:55.325526Z"
    },
    "papermill": {
     "duration": 318.357093,
     "end_time": "2023-11-15T13:58:55.328097",
     "exception": false,
     "start_time": "2023-11-15T13:53:36.971004",
     "status": "completed"
    },
    "tags": []
   },
   "outputs": [
    {
     "name": "stdout",
     "output_type": "stream",
     "text": [
      "100%|██████████| 100/100 [05:17<00:00,  3.18s/trial, best loss: -0.65715080171617]\n"
     ]
    }
   ],
   "source": [
    "from hyperopt import fmin, tpe, hp\n",
    "\n",
    "space = {\n",
    "    \"min_child_weight\": hp.uniform(\"min_child_weight\",0, 5),\n",
    "    \"colsample_bytree\": hp.uniform(\"colsample_bytree\", 0.5, 1),\n",
    "    \"reg_alpha\": hp.uniform(\"reg_alpha\", 0, 1),\n",
    "    \"learning_rate\": hp.uniform(\"learning_rate\", 0.01, 0.5),\n",
    "    \"subsample\": hp.uniform(\"subsample\",0.5, 1),\n",
    "    \"max_depth\": hp.choice(\"max_depth\", range(3,8))\n",
    "}\n",
    "\n",
    "def objective(params):\n",
    "    xg_model = xgb.XGBClassifier(**params, tree_method='gpu_hist')\n",
    "    xg_model.fit(X_train, y_train)\n",
    "    y_pred = xg_model.predict(X_val)\n",
    "    loss = roc_auc_score(y_val, y_pred)\n",
    "    return -loss\n",
    "\n",
    "best_params = fmin(objective, space, algo=tpe.suggest, max_evals=100)"
   ]
  },
  {
   "cell_type": "code",
   "execution_count": 13,
   "id": "7100028b",
   "metadata": {
    "execution": {
     "iopub.execute_input": "2023-11-15T13:58:55.364505Z",
     "iopub.status.busy": "2023-11-15T13:58:55.364175Z",
     "iopub.status.idle": "2023-11-15T13:59:00.218517Z",
     "shell.execute_reply": "2023-11-15T13:59:00.217732Z"
    },
    "papermill": {
     "duration": 4.87502,
     "end_time": "2023-11-15T13:59:00.220711",
     "exception": false,
     "start_time": "2023-11-15T13:58:55.345691",
     "status": "completed"
    },
    "tags": []
   },
   "outputs": [
    {
     "name": "stdout",
     "output_type": "stream",
     "text": [
      "accuracy_score: 0.91724\n",
      "f1_score: 0.42383737120579223\n",
      "roc_auc_score: 0.6439833215866183\n",
      "precision_score: 0.7125468164794008\n",
      "recall_score: 0.30162504954419345\n"
     ]
    }
   ],
   "source": [
    "# best_params\n",
    "model = xgb.XGBClassifier(**best_params, tree_method='gpu_hist', early_stopping_rounds=2, n_estimators=1000)\n",
    "model.fit(X_train, y_train, eval_set=[(X_val, y_val)], verbose=0)\n",
    "validate_model(model, X_test, y_test)\n",
    "make_submission(model, df_test)"
   ]
  },
  {
   "cell_type": "markdown",
   "id": "0dabd928",
   "metadata": {
    "papermill": {
     "duration": 0.017452,
     "end_time": "2023-11-15T13:59:00.255961",
     "exception": false,
     "start_time": "2023-11-15T13:59:00.238509",
     "status": "completed"
    },
    "tags": []
   },
   "source": [
    "# Imbalance Data Handling techniques"
   ]
  },
  {
   "cell_type": "code",
   "execution_count": 14,
   "id": "af84ad89",
   "metadata": {
    "execution": {
     "iopub.execute_input": "2023-11-15T13:59:00.291845Z",
     "iopub.status.busy": "2023-11-15T13:59:00.291535Z",
     "iopub.status.idle": "2023-11-15T13:59:00.297332Z",
     "shell.execute_reply": "2023-11-15T13:59:00.296484Z"
    },
    "papermill": {
     "duration": 0.025936,
     "end_time": "2023-11-15T13:59:00.299223",
     "exception": false,
     "start_time": "2023-11-15T13:59:00.273287",
     "status": "completed"
    },
    "tags": []
   },
   "outputs": [],
   "source": [
    "# we need to try a couple of techniques to handle imbalanced data.\n",
    "# so we create a function that raises and evaluates the model\n",
    "def model_testing(parameters, train_set, val_set, n_estimators=200):\n",
    "    model = xgb.XGBClassifier(**parameters, tree_method='gpu_hist', early_stopping_rounds=2, n_estimators=n_estimators)\n",
    "    model.fit(train_set[0], train_set[1], eval_set=[val_set], verbose=0)\n",
    "    \n",
    "    validate_model(model, val_set[0], val_set[1])\n",
    "    return model  "
   ]
  },
  {
   "cell_type": "markdown",
   "id": "091be29e",
   "metadata": {
    "papermill": {
     "duration": 0.016927,
     "end_time": "2023-11-15T13:59:00.333117",
     "exception": false,
     "start_time": "2023-11-15T13:59:00.316190",
     "status": "completed"
    },
    "tags": []
   },
   "source": [
    "## 1) Undersampling"
   ]
  },
  {
   "cell_type": "code",
   "execution_count": 15,
   "id": "c4127fb0",
   "metadata": {
    "execution": {
     "iopub.execute_input": "2023-11-15T13:59:00.368565Z",
     "iopub.status.busy": "2023-11-15T13:59:00.368293Z",
     "iopub.status.idle": "2023-11-15T13:59:00.372425Z",
     "shell.execute_reply": "2023-11-15T13:59:00.371569Z"
    },
    "papermill": {
     "duration": 0.024265,
     "end_time": "2023-11-15T13:59:00.374289",
     "exception": false,
     "start_time": "2023-11-15T13:59:00.350024",
     "status": "completed"
    },
    "tags": []
   },
   "outputs": [],
   "source": [
    "# df_train_pos = df_train[df_train['target'] == 1]\n",
    "# df_train_neg = df_train[df_train['target'] == 0].sample(20098)\n",
    "\n",
    "\n",
    "# df_train_reduced = pd.concat((df_train_pos, df_train_neg), axis=0).sample(40196)\n",
    "# X_train, X_val, y_train, y_val = train_test_split(df_train_reduced.iloc[:, 2:], df_train_reduced['target'], test_size=0.5)\n",
    "# X_val, X_test, y_val, y_test = train_test_split(X_val, y_val, test_size=0.5)"
   ]
  },
  {
   "cell_type": "code",
   "execution_count": 16,
   "id": "7662c259",
   "metadata": {
    "execution": {
     "iopub.execute_input": "2023-11-15T13:59:00.409783Z",
     "iopub.status.busy": "2023-11-15T13:59:00.409181Z",
     "iopub.status.idle": "2023-11-15T13:59:00.413779Z",
     "shell.execute_reply": "2023-11-15T13:59:00.412996Z"
    },
    "papermill": {
     "duration": 0.024126,
     "end_time": "2023-11-15T13:59:00.415607",
     "exception": false,
     "start_time": "2023-11-15T13:59:00.391481",
     "status": "completed"
    },
    "tags": []
   },
   "outputs": [],
   "source": [
    "# space = {\n",
    "#     \"min_child_weight\": hp.uniform(\"min_child_weight\",0, 5),\n",
    "#     \"colsample_bytree\": hp.uniform(\"colsample_bytree\", 0.5, 1),\n",
    "#     \"reg_alpha\": hp.uniform(\"reg_alpha\", 0, 1),\n",
    "#     \"learning_rate\": hp.uniform(\"learning_rate\", 0.01, 0.5),\n",
    "#     \"subsample\": hp.uniform(\"subsample\",0.5, 1),\n",
    "#     \"max_depth\": hp.choice(\"max_depth\", range(3,8))\n",
    "# }\n",
    "\n",
    "# def objective(params):\n",
    "#     xg_model = xgb.XGBClassifier(**params, tree_method='gpu_hist')\n",
    "#     xg_model.fit(X_train, y_train)\n",
    "#     y_pred = xg_model.predict(X_val)\n",
    "#     loss = roc_auc_score(y_val, y_pred)\n",
    "#     return -loss\n",
    "\n",
    "# best_params = fmin(objective, space, algo=tpe.suggest, max_evals=100)"
   ]
  },
  {
   "cell_type": "code",
   "execution_count": 17,
   "id": "a908db50",
   "metadata": {
    "execution": {
     "iopub.execute_input": "2023-11-15T13:59:00.450868Z",
     "iopub.status.busy": "2023-11-15T13:59:00.450620Z",
     "iopub.status.idle": "2023-11-15T13:59:00.454290Z",
     "shell.execute_reply": "2023-11-15T13:59:00.453465Z"
    },
    "papermill": {
     "duration": 0.023382,
     "end_time": "2023-11-15T13:59:00.456117",
     "exception": false,
     "start_time": "2023-11-15T13:59:00.432735",
     "status": "completed"
    },
    "tags": []
   },
   "outputs": [],
   "source": [
    "# model = model_testing(best_params, (X_train, y_train), (X_val, y_val), 1000)\n",
    "# make_submission(model, df_test)"
   ]
  },
  {
   "cell_type": "markdown",
   "id": "063ac54b",
   "metadata": {
    "papermill": {
     "duration": 0.016957,
     "end_time": "2023-11-15T13:59:00.490086",
     "exception": false,
     "start_time": "2023-11-15T13:59:00.473129",
     "status": "completed"
    },
    "tags": []
   },
   "source": [
    "## 2) Oversampling (ADASYN)"
   ]
  },
  {
   "cell_type": "code",
   "execution_count": 18,
   "id": "e41bfd28",
   "metadata": {
    "execution": {
     "iopub.execute_input": "2023-11-15T13:59:00.526116Z",
     "iopub.status.busy": "2023-11-15T13:59:00.525788Z",
     "iopub.status.idle": "2023-11-15T13:59:00.530003Z",
     "shell.execute_reply": "2023-11-15T13:59:00.529191Z"
    },
    "papermill": {
     "duration": 0.024244,
     "end_time": "2023-11-15T13:59:00.531858",
     "exception": false,
     "start_time": "2023-11-15T13:59:00.507614",
     "status": "completed"
    },
    "tags": []
   },
   "outputs": [],
   "source": [
    "# from imblearn.over_sampling import ADASYN\n",
    "\n",
    "# adasyn = ADASYN()\n",
    "# X_ada, y_ada = adasyn.fit_resample(X.iloc[:,2:], X['target'])\n",
    "\n",
    "# X_train, X_val, y_train, y_val = train_test_split(X_ada, y_ada, test_size=0.2)\n",
    "# X_val, X_test, y_val, y_test = train_test_split(X_val, y_val, test_size=0.5)"
   ]
  },
  {
   "cell_type": "code",
   "execution_count": 19,
   "id": "0585635c",
   "metadata": {
    "execution": {
     "iopub.execute_input": "2023-11-15T13:59:00.568505Z",
     "iopub.status.busy": "2023-11-15T13:59:00.567838Z",
     "iopub.status.idle": "2023-11-15T13:59:00.571828Z",
     "shell.execute_reply": "2023-11-15T13:59:00.570919Z"
    },
    "papermill": {
     "duration": 0.024022,
     "end_time": "2023-11-15T13:59:00.573802",
     "exception": false,
     "start_time": "2023-11-15T13:59:00.549780",
     "status": "completed"
    },
    "tags": []
   },
   "outputs": [],
   "source": [
    "# model = model_testing(best_params, (X_train, y_train), (X_val, y_val), 1000)\n",
    "# make_submission(model, df_test)"
   ]
  },
  {
   "cell_type": "markdown",
   "id": "ec849a7f",
   "metadata": {
    "papermill": {
     "duration": 0.016818,
     "end_time": "2023-11-15T13:59:00.607523",
     "exception": false,
     "start_time": "2023-11-15T13:59:00.590705",
     "status": "completed"
    },
    "tags": []
   },
   "source": [
    "## Oversampling (SMOTE)"
   ]
  },
  {
   "cell_type": "code",
   "execution_count": 20,
   "id": "0d876589",
   "metadata": {
    "execution": {
     "iopub.execute_input": "2023-11-15T13:59:00.642855Z",
     "iopub.status.busy": "2023-11-15T13:59:00.642539Z",
     "iopub.status.idle": "2023-11-15T13:59:00.647028Z",
     "shell.execute_reply": "2023-11-15T13:59:00.646136Z"
    },
    "papermill": {
     "duration": 0.024717,
     "end_time": "2023-11-15T13:59:00.649151",
     "exception": false,
     "start_time": "2023-11-15T13:59:00.624434",
     "status": "completed"
    },
    "tags": []
   },
   "outputs": [],
   "source": [
    "# from imblearn.over_sampling import SMOTE\n",
    "\n",
    "# smote = SMOTE()\n",
    "# X_sm, y_sm = smote.fit_resample(X.iloc[:,2:], X['target'])\n",
    "\n",
    "# X_train, X_val, y_train, y_val = train_test_split(X_sm, y_sm, test_size=0.2)\n",
    "# X_val, X_test, y_val, y_test = train_test_split(X_val, y_val, test_size=0.5)"
   ]
  },
  {
   "cell_type": "code",
   "execution_count": 21,
   "id": "3c27d4a3",
   "metadata": {
    "execution": {
     "iopub.execute_input": "2023-11-15T13:59:00.687393Z",
     "iopub.status.busy": "2023-11-15T13:59:00.687111Z",
     "iopub.status.idle": "2023-11-15T13:59:00.691155Z",
     "shell.execute_reply": "2023-11-15T13:59:00.690013Z"
    },
    "papermill": {
     "duration": 0.024365,
     "end_time": "2023-11-15T13:59:00.693128",
     "exception": false,
     "start_time": "2023-11-15T13:59:00.668763",
     "status": "completed"
    },
    "tags": []
   },
   "outputs": [],
   "source": [
    "# model = model_testing(best_params, (X_train, y_train), (X_val, y_val), 1000)\n",
    "# make_submission(model, df_test)"
   ]
  },
  {
   "cell_type": "markdown",
   "id": "d2ef20d5",
   "metadata": {
    "papermill": {
     "duration": 0.017172,
     "end_time": "2023-11-15T13:59:00.727901",
     "exception": false,
     "start_time": "2023-11-15T13:59:00.710729",
     "status": "completed"
    },
    "tags": []
   },
   "source": [
    "## 4) Oversampling (SMOTE+ENN)"
   ]
  },
  {
   "cell_type": "code",
   "execution_count": 22,
   "id": "ee35033e",
   "metadata": {
    "execution": {
     "iopub.execute_input": "2023-11-15T13:59:00.763207Z",
     "iopub.status.busy": "2023-11-15T13:59:00.762903Z",
     "iopub.status.idle": "2023-11-15T13:59:00.766782Z",
     "shell.execute_reply": "2023-11-15T13:59:00.766014Z"
    },
    "papermill": {
     "duration": 0.023763,
     "end_time": "2023-11-15T13:59:00.768577",
     "exception": false,
     "start_time": "2023-11-15T13:59:00.744814",
     "status": "completed"
    },
    "tags": []
   },
   "outputs": [],
   "source": [
    "# from imblearn.combine import SMOTEENN\n",
    "\n",
    "# smoteenn = SMOTEENN(sampling_strategy=0.6)\n",
    "# X_smenn, y_smenn = smoteenn.fit_resample(X.iloc[:,2:], X['target'])\n",
    "\n",
    "# X_train, X_val, y_train, y_val = train_test_split(X_smenn, y_smenn, test_size=0.2)\n",
    "# X_val, X_test, y_val, y_test = train_test_split(X_val, y_val, test_size=0.5)"
   ]
  },
  {
   "cell_type": "code",
   "execution_count": 23,
   "id": "0a3b3a33",
   "metadata": {
    "execution": {
     "iopub.execute_input": "2023-11-15T13:59:00.805203Z",
     "iopub.status.busy": "2023-11-15T13:59:00.804511Z",
     "iopub.status.idle": "2023-11-15T13:59:00.808309Z",
     "shell.execute_reply": "2023-11-15T13:59:00.807468Z"
    },
    "papermill": {
     "duration": 0.024824,
     "end_time": "2023-11-15T13:59:00.810297",
     "exception": false,
     "start_time": "2023-11-15T13:59:00.785473",
     "status": "completed"
    },
    "tags": []
   },
   "outputs": [],
   "source": [
    "# model = model_testing(best_params, (X_train, y_train), (X_val, y_val), 10)\n",
    "# make_submission(model, df_test)"
   ]
  },
  {
   "cell_type": "code",
   "execution_count": 24,
   "id": "c4f8c305",
   "metadata": {
    "execution": {
     "iopub.execute_input": "2023-11-15T13:59:00.845549Z",
     "iopub.status.busy": "2023-11-15T13:59:00.845293Z",
     "iopub.status.idle": "2023-11-15T13:59:00.849090Z",
     "shell.execute_reply": "2023-11-15T13:59:00.848238Z"
    },
    "papermill": {
     "duration": 0.023846,
     "end_time": "2023-11-15T13:59:00.851131",
     "exception": false,
     "start_time": "2023-11-15T13:59:00.827285",
     "status": "completed"
    },
    "tags": []
   },
   "outputs": [],
   "source": [
    "# validate_model(model, X_test, y_test)"
   ]
  },
  {
   "cell_type": "markdown",
   "id": "3fc40e34",
   "metadata": {
    "papermill": {
     "duration": 0.016981,
     "end_time": "2023-11-15T13:59:00.885159",
     "exception": false,
     "start_time": "2023-11-15T13:59:00.868178",
     "status": "completed"
    },
    "tags": []
   },
   "source": [
    "## 5) Class Weight Adjusting"
   ]
  },
  {
   "cell_type": "code",
   "execution_count": null,
   "id": "f1a1c59c",
   "metadata": {
    "execution": {
     "iopub.execute_input": "2023-11-15T13:40:21.999366Z",
     "iopub.status.busy": "2023-11-15T13:40:21.998470Z",
     "iopub.status.idle": "2023-11-15T13:40:22.021676Z",
     "shell.execute_reply": "2023-11-15T13:40:22.020583Z",
     "shell.execute_reply.started": "2023-11-15T13:40:21.999329Z"
    },
    "papermill": {
     "duration": 0.018059,
     "end_time": "2023-11-15T13:59:00.921219",
     "exception": false,
     "start_time": "2023-11-15T13:59:00.903160",
     "status": "completed"
    },
    "tags": []
   },
   "outputs": [],
   "source": []
  }
 ],
 "metadata": {
  "kaggle": {
   "accelerator": "gpu",
   "dataSources": [
    {
     "databundleVersionId": 298493,
     "sourceId": 10385,
     "sourceType": "competition"
    }
   ],
   "dockerImageVersionId": 30558,
   "isGpuEnabled": true,
   "isInternetEnabled": true,
   "language": "python",
   "sourceType": "notebook"
  },
  "kernelspec": {
   "display_name": "Python 3",
   "language": "python",
   "name": "python3"
  },
  "language_info": {
   "codemirror_mode": {
    "name": "ipython",
    "version": 3
   },
   "file_extension": ".py",
   "mimetype": "text/x-python",
   "name": "python",
   "nbconvert_exporter": "python",
   "pygments_lexer": "ipython3",
   "version": "3.10.12"
  },
  "papermill": {
   "default_parameters": {},
   "duration": 363.010461,
   "end_time": "2023-11-15T13:59:01.457845",
   "environment_variables": {},
   "exception": null,
   "input_path": "__notebook__.ipynb",
   "output_path": "__notebook__.ipynb",
   "parameters": {},
   "start_time": "2023-11-15T13:52:58.447384",
   "version": "2.4.0"
  }
 },
 "nbformat": 4,
 "nbformat_minor": 5
}
