{
 "cells": [
  {
   "cell_type": "code",
   "execution_count": 1,
   "id": "5811347f",
   "metadata": {
    "_cell_guid": "b1076dfc-b9ad-4769-8c92-a6c4dae69d19",
    "_uuid": "8f2839f25d086af736a60e9eeb907d3b93b6e0e5",
    "execution": {
     "iopub.execute_input": "2023-11-15T11:08:13.445771Z",
     "iopub.status.busy": "2023-11-15T11:08:13.444987Z",
     "iopub.status.idle": "2023-11-15T11:08:14.099453Z",
     "shell.execute_reply": "2023-11-15T11:08:14.098555Z"
    },
    "papermill": {
     "duration": 0.665244,
     "end_time": "2023-11-15T11:08:14.101750",
     "exception": false,
     "start_time": "2023-11-15T11:08:13.436506",
     "status": "completed"
    },
    "tags": []
   },
   "outputs": [
    {
     "name": "stdout",
     "output_type": "stream",
     "text": [
      "/kaggle/input/santander-customer-transaction-prediction/sample_submission.csv\n",
      "/kaggle/input/santander-customer-transaction-prediction/train.csv\n",
      "/kaggle/input/santander-customer-transaction-prediction/test.csv\n"
     ]
    }
   ],
   "source": [
    "# This Python 3 environment comes with many helpful analytics libraries installed\n",
    "# It is defined by the kaggle/python Docker image: https://github.com/kaggle/docker-python\n",
    "# For example, here's several helpful packages to load\n",
    "\n",
    "import numpy as np # linear algebra\n",
    "import pandas as pd # data processing, CSV file I/O (e.g. pd.read_csv)\n",
    "\n",
    "# Input data files are available in the read-only \"../input/\" directory\n",
    "# For example, running this (by clicking run or pressing Shift+Enter) will list all files under the input directory\n",
    "\n",
    "import os\n",
    "for dirname, _, filenames in os.walk('/kaggle/input'):\n",
    "    for filename in filenames:\n",
    "        print(os.path.join(dirname, filename))\n",
    "\n",
    "# You can write up to 20GB to the current directory (/kaggle/working/) that gets preserved as output when you create a version using \"Save & Run All\" \n",
    "# You can also write temporary files to /kaggle/temp/, but they won't be saved outside of the current session"
   ]
  },
  {
   "cell_type": "code",
   "execution_count": 2,
   "id": "5cf4d59b",
   "metadata": {
    "execution": {
     "iopub.execute_input": "2023-11-15T11:08:14.117239Z",
     "iopub.status.busy": "2023-11-15T11:08:14.116850Z",
     "iopub.status.idle": "2023-11-15T11:08:31.566789Z",
     "shell.execute_reply": "2023-11-15T11:08:31.566054Z"
    },
    "papermill": {
     "duration": 17.460174,
     "end_time": "2023-11-15T11:08:31.569097",
     "exception": false,
     "start_time": "2023-11-15T11:08:14.108923",
     "status": "completed"
    },
    "tags": []
   },
   "outputs": [],
   "source": [
    "df_train = pd.read_csv(\"/kaggle/input/santander-customer-transaction-prediction/train.csv\")\n",
    "df_test = pd.read_csv(\"/kaggle/input/santander-customer-transaction-prediction/test.csv\")"
   ]
  },
  {
   "cell_type": "markdown",
   "id": "5640d065",
   "metadata": {
    "papermill": {
     "duration": 0.006667,
     "end_time": "2023-11-15T11:08:31.582926",
     "exception": false,
     "start_time": "2023-11-15T11:08:31.576259",
     "status": "completed"
    },
    "tags": []
   },
   "source": [
    "1) Use 20k out of 170k negative examples and all 20k positive\\\n",
    "2) Split them on train & val sets\\\n",
    "3) Train model with cv and no cv"
   ]
  },
  {
   "cell_type": "code",
   "execution_count": 3,
   "id": "00177eff",
   "metadata": {
    "execution": {
     "iopub.execute_input": "2023-11-15T11:08:31.597558Z",
     "iopub.status.busy": "2023-11-15T11:08:31.597278Z",
     "iopub.status.idle": "2023-11-15T11:08:32.791950Z",
     "shell.execute_reply": "2023-11-15T11:08:32.790984Z"
    },
    "papermill": {
     "duration": 1.20471,
     "end_time": "2023-11-15T11:08:32.794372",
     "exception": false,
     "start_time": "2023-11-15T11:08:31.589662",
     "status": "completed"
    },
    "tags": []
   },
   "outputs": [
    {
     "name": "stderr",
     "output_type": "stream",
     "text": [
      "/opt/conda/lib/python3.10/site-packages/scipy/__init__.py:146: UserWarning: A NumPy version >=1.16.5 and <1.23.0 is required for this version of SciPy (detected version 1.23.5\n",
      "  warnings.warn(f\"A NumPy version >={np_minversion} and <{np_maxversion}\"\n"
     ]
    }
   ],
   "source": [
    "import matplotlib.pyplot as plt\n",
    "\n",
    "from sklearn.model_selection import train_test_split\n",
    "from sklearn.tree import DecisionTreeClassifier\n",
    "\n",
    "from sklearn.metrics import accuracy_score, f1_score, roc_auc_score, precision_score, recall_score\n",
    "import xgboost as xgb"
   ]
  },
  {
   "cell_type": "markdown",
   "id": "f2f7acf6",
   "metadata": {
    "papermill": {
     "duration": 0.006716,
     "end_time": "2023-11-15T11:08:32.808275",
     "exception": false,
     "start_time": "2023-11-15T11:08:32.801559",
     "status": "completed"
    },
    "tags": []
   },
   "source": [
    "# Models with no data preprocessing and feature engineering"
   ]
  },
  {
   "cell_type": "code",
   "execution_count": 4,
   "id": "2675f992",
   "metadata": {
    "execution": {
     "iopub.execute_input": "2023-11-15T11:08:32.823154Z",
     "iopub.status.busy": "2023-11-15T11:08:32.822808Z",
     "iopub.status.idle": "2023-11-15T11:08:33.623717Z",
     "shell.execute_reply": "2023-11-15T11:08:33.622914Z"
    },
    "papermill": {
     "duration": 0.81128,
     "end_time": "2023-11-15T11:08:33.626359",
     "exception": false,
     "start_time": "2023-11-15T11:08:32.815079",
     "status": "completed"
    },
    "tags": []
   },
   "outputs": [],
   "source": [
    "X = df_train.sample(200000)\n",
    "X_train, X_val, y_train, y_val = train_test_split(X.iloc[:,2:], X['target'], stratify=X['target'], test_size=0.25)\n",
    "X_val, X_test, y_val, y_test = train_test_split(X_val, y_val, test_size=0.5)"
   ]
  },
  {
   "cell_type": "code",
   "execution_count": 5,
   "id": "2f5943d9",
   "metadata": {
    "execution": {
     "iopub.execute_input": "2023-11-15T11:08:33.642144Z",
     "iopub.status.busy": "2023-11-15T11:08:33.641397Z",
     "iopub.status.idle": "2023-11-15T11:08:49.835072Z",
     "shell.execute_reply": "2023-11-15T11:08:49.834149Z"
    },
    "papermill": {
     "duration": 16.203385,
     "end_time": "2023-11-15T11:08:49.836902",
     "exception": false,
     "start_time": "2023-11-15T11:08:33.633517",
     "status": "completed"
    },
    "tags": []
   },
   "outputs": [
    {
     "name": "stdout",
     "output_type": "stream",
     "text": [
      "[11:08:36] WARNING: ../src/learner.cc:767: \n",
      "Parameters: { \"device\" } are not used.\n",
      "\n",
      "CPU times: user 1min 1s, sys: 275 ms, total: 1min 2s\n",
      "Wall time: 16.2 s\n"
     ]
    },
    {
     "data": {
      "text/html": [
       "<style>#sk-container-id-1 {color: black;background-color: white;}#sk-container-id-1 pre{padding: 0;}#sk-container-id-1 div.sk-toggleable {background-color: white;}#sk-container-id-1 label.sk-toggleable__label {cursor: pointer;display: block;width: 100%;margin-bottom: 0;padding: 0.3em;box-sizing: border-box;text-align: center;}#sk-container-id-1 label.sk-toggleable__label-arrow:before {content: \"▸\";float: left;margin-right: 0.25em;color: #696969;}#sk-container-id-1 label.sk-toggleable__label-arrow:hover:before {color: black;}#sk-container-id-1 div.sk-estimator:hover label.sk-toggleable__label-arrow:before {color: black;}#sk-container-id-1 div.sk-toggleable__content {max-height: 0;max-width: 0;overflow: hidden;text-align: left;background-color: #f0f8ff;}#sk-container-id-1 div.sk-toggleable__content pre {margin: 0.2em;color: black;border-radius: 0.25em;background-color: #f0f8ff;}#sk-container-id-1 input.sk-toggleable__control:checked~div.sk-toggleable__content {max-height: 200px;max-width: 100%;overflow: auto;}#sk-container-id-1 input.sk-toggleable__control:checked~label.sk-toggleable__label-arrow:before {content: \"▾\";}#sk-container-id-1 div.sk-estimator input.sk-toggleable__control:checked~label.sk-toggleable__label {background-color: #d4ebff;}#sk-container-id-1 div.sk-label input.sk-toggleable__control:checked~label.sk-toggleable__label {background-color: #d4ebff;}#sk-container-id-1 input.sk-hidden--visually {border: 0;clip: rect(1px 1px 1px 1px);clip: rect(1px, 1px, 1px, 1px);height: 1px;margin: -1px;overflow: hidden;padding: 0;position: absolute;width: 1px;}#sk-container-id-1 div.sk-estimator {font-family: monospace;background-color: #f0f8ff;border: 1px dotted black;border-radius: 0.25em;box-sizing: border-box;margin-bottom: 0.5em;}#sk-container-id-1 div.sk-estimator:hover {background-color: #d4ebff;}#sk-container-id-1 div.sk-parallel-item::after {content: \"\";width: 100%;border-bottom: 1px solid gray;flex-grow: 1;}#sk-container-id-1 div.sk-label:hover label.sk-toggleable__label {background-color: #d4ebff;}#sk-container-id-1 div.sk-serial::before {content: \"\";position: absolute;border-left: 1px solid gray;box-sizing: border-box;top: 0;bottom: 0;left: 50%;z-index: 0;}#sk-container-id-1 div.sk-serial {display: flex;flex-direction: column;align-items: center;background-color: white;padding-right: 0.2em;padding-left: 0.2em;position: relative;}#sk-container-id-1 div.sk-item {position: relative;z-index: 1;}#sk-container-id-1 div.sk-parallel {display: flex;align-items: stretch;justify-content: center;background-color: white;position: relative;}#sk-container-id-1 div.sk-item::before, #sk-container-id-1 div.sk-parallel-item::before {content: \"\";position: absolute;border-left: 1px solid gray;box-sizing: border-box;top: 0;bottom: 0;left: 50%;z-index: -1;}#sk-container-id-1 div.sk-parallel-item {display: flex;flex-direction: column;z-index: 1;position: relative;background-color: white;}#sk-container-id-1 div.sk-parallel-item:first-child::after {align-self: flex-end;width: 50%;}#sk-container-id-1 div.sk-parallel-item:last-child::after {align-self: flex-start;width: 50%;}#sk-container-id-1 div.sk-parallel-item:only-child::after {width: 0;}#sk-container-id-1 div.sk-dashed-wrapped {border: 1px dashed gray;margin: 0 0.4em 0.5em 0.4em;box-sizing: border-box;padding-bottom: 0.4em;background-color: white;}#sk-container-id-1 div.sk-label label {font-family: monospace;font-weight: bold;display: inline-block;line-height: 1.2em;}#sk-container-id-1 div.sk-label-container {text-align: center;}#sk-container-id-1 div.sk-container {/* jupyter's `normalize.less` sets `[hidden] { display: none; }` but bootstrap.min.css set `[hidden] { display: none !important; }` so we also need the `!important` here to be able to override the default hidden behavior on the sphinx rendered scikit-learn.org. See: https://github.com/scikit-learn/scikit-learn/issues/21755 */display: inline-block !important;position: relative;}#sk-container-id-1 div.sk-text-repr-fallback {display: none;}</style><div id=\"sk-container-id-1\" class=\"sk-top-container\"><div class=\"sk-text-repr-fallback\"><pre>XGBClassifier(base_score=None, booster=None, callbacks=None,\n",
       "              colsample_bylevel=None, colsample_bynode=None,\n",
       "              colsample_bytree=None, device=&#x27;gpu&#x27;, early_stopping_rounds=2,\n",
       "              enable_categorical=False, eval_metric=None, feature_types=None,\n",
       "              gamma=None, gpu_id=None, grow_policy=None, importance_type=None,\n",
       "              interaction_constraints=None, learning_rate=None, max_bin=None,\n",
       "              max_cat_threshold=None, max_cat_to_onehot=None,\n",
       "              max_delta_step=None, max_depth=None, max_leaves=None,\n",
       "              min_child_weight=None, missing=nan, monotone_constraints=None,\n",
       "              n_estimators=100, n_jobs=None, num_parallel_tree=None,\n",
       "              predictor=None, ...)</pre><b>In a Jupyter environment, please rerun this cell to show the HTML representation or trust the notebook. <br />On GitHub, the HTML representation is unable to render, please try loading this page with nbviewer.org.</b></div><div class=\"sk-container\" hidden><div class=\"sk-item\"><div class=\"sk-estimator sk-toggleable\"><input class=\"sk-toggleable__control sk-hidden--visually\" id=\"sk-estimator-id-1\" type=\"checkbox\" checked><label for=\"sk-estimator-id-1\" class=\"sk-toggleable__label sk-toggleable__label-arrow\">XGBClassifier</label><div class=\"sk-toggleable__content\"><pre>XGBClassifier(base_score=None, booster=None, callbacks=None,\n",
       "              colsample_bylevel=None, colsample_bynode=None,\n",
       "              colsample_bytree=None, device=&#x27;gpu&#x27;, early_stopping_rounds=2,\n",
       "              enable_categorical=False, eval_metric=None, feature_types=None,\n",
       "              gamma=None, gpu_id=None, grow_policy=None, importance_type=None,\n",
       "              interaction_constraints=None, learning_rate=None, max_bin=None,\n",
       "              max_cat_threshold=None, max_cat_to_onehot=None,\n",
       "              max_delta_step=None, max_depth=None, max_leaves=None,\n",
       "              min_child_weight=None, missing=nan, monotone_constraints=None,\n",
       "              n_estimators=100, n_jobs=None, num_parallel_tree=None,\n",
       "              predictor=None, ...)</pre></div></div></div></div></div>"
      ],
      "text/plain": [
       "XGBClassifier(base_score=None, booster=None, callbacks=None,\n",
       "              colsample_bylevel=None, colsample_bynode=None,\n",
       "              colsample_bytree=None, device='gpu', early_stopping_rounds=2,\n",
       "              enable_categorical=False, eval_metric=None, feature_types=None,\n",
       "              gamma=None, gpu_id=None, grow_policy=None, importance_type=None,\n",
       "              interaction_constraints=None, learning_rate=None, max_bin=None,\n",
       "              max_cat_threshold=None, max_cat_to_onehot=None,\n",
       "              max_delta_step=None, max_depth=None, max_leaves=None,\n",
       "              min_child_weight=None, missing=nan, monotone_constraints=None,\n",
       "              n_estimators=100, n_jobs=None, num_parallel_tree=None,\n",
       "              predictor=None, ...)"
      ]
     },
     "execution_count": 5,
     "metadata": {},
     "output_type": "execute_result"
    }
   ],
   "source": [
    "%%time\n",
    "xgb_model = xgb.XGBClassifier(tree_method='hist', early_stopping_rounds=2, device='gpu')\n",
    "xgb_model.fit(X_train, y_train, eval_set=[(X_val, y_val)], verbose=0)"
   ]
  },
  {
   "cell_type": "code",
   "execution_count": 6,
   "id": "64e42d95",
   "metadata": {
    "execution": {
     "iopub.execute_input": "2023-11-15T11:08:49.852817Z",
     "iopub.status.busy": "2023-11-15T11:08:49.852530Z",
     "iopub.status.idle": "2023-11-15T11:08:49.857384Z",
     "shell.execute_reply": "2023-11-15T11:08:49.856531Z"
    },
    "papermill": {
     "duration": 0.014853,
     "end_time": "2023-11-15T11:08:49.859279",
     "exception": false,
     "start_time": "2023-11-15T11:08:49.844426",
     "status": "completed"
    },
    "tags": []
   },
   "outputs": [],
   "source": [
    "def validate_model(model, X_val, y_val):\n",
    "    predictions = model.predict(X_val)    \n",
    "    metrics = [accuracy_score, f1_score, roc_auc_score,\n",
    "               precision_score, recall_score]\n",
    "    for metric in metrics:\n",
    "        print(f\"{metric.__name__}: {metric(y_val, predictions.round())}\")"
   ]
  },
  {
   "cell_type": "code",
   "execution_count": 7,
   "id": "811d92a9",
   "metadata": {
    "execution": {
     "iopub.execute_input": "2023-11-15T11:08:49.874805Z",
     "iopub.status.busy": "2023-11-15T11:08:49.874518Z",
     "iopub.status.idle": "2023-11-15T11:08:49.965365Z",
     "shell.execute_reply": "2023-11-15T11:08:49.964410Z"
    },
    "papermill": {
     "duration": 0.100779,
     "end_time": "2023-11-15T11:08:49.967244",
     "exception": false,
     "start_time": "2023-11-15T11:08:49.866465",
     "status": "completed"
    },
    "tags": []
   },
   "outputs": [
    {
     "name": "stdout",
     "output_type": "stream",
     "text": [
      "accuracy_score: 0.91332\n",
      "f1_score: 0.366929593923459\n",
      "roc_auc_score: 0.6182139207129048\n",
      "precision_score: 0.7032474804031354\n",
      "recall_score: 0.2482213438735178\n"
     ]
    }
   ],
   "source": [
    "validate_model(xgb_model, X_val, y_val)"
   ]
  },
  {
   "cell_type": "markdown",
   "id": "b1f71822",
   "metadata": {
    "papermill": {
     "duration": 0.00724,
     "end_time": "2023-11-15T11:08:49.981811",
     "exception": false,
     "start_time": "2023-11-15T11:08:49.974571",
     "status": "completed"
    },
    "tags": []
   },
   "source": [
    "## Grid Search hyperparameters"
   ]
  },
  {
   "cell_type": "code",
   "execution_count": 8,
   "id": "f0abebd7",
   "metadata": {
    "execution": {
     "iopub.execute_input": "2023-11-15T11:08:49.997604Z",
     "iopub.status.busy": "2023-11-15T11:08:49.997343Z",
     "iopub.status.idle": "2023-11-15T11:08:50.001602Z",
     "shell.execute_reply": "2023-11-15T11:08:50.000807Z"
    },
    "papermill": {
     "duration": 0.014235,
     "end_time": "2023-11-15T11:08:50.003442",
     "exception": false,
     "start_time": "2023-11-15T11:08:49.989207",
     "status": "completed"
    },
    "tags": []
   },
   "outputs": [],
   "source": [
    "# %%time\n",
    "from sklearn.model_selection import RandomizedSearchCV, GridSearchCV\n",
    "\n",
    "# param_grid = {\n",
    "#     \"max_depth\": [4,5,6,7],\n",
    "#     \"learning_rate\": [0.2, 0.1, 0.05, 0.01],\n",
    "#     \"subsample\": [0.5, 0.7, 1]\n",
    "# }\n",
    "\n",
    "# estim = xgb.XGBClassifier(tree_method='gpu_hist', device='gpu')\n",
    "\n",
    "# grid_search = GridSearchCV(estim, param_grid, scoring='roc_auc', n_jobs=-1, cv=5)\n",
    "# grid_search.fit(X_train, y_train)"
   ]
  },
  {
   "cell_type": "markdown",
   "id": "bb9432f2",
   "metadata": {
    "papermill": {
     "duration": 0.007074,
     "end_time": "2023-11-15T11:08:50.018041",
     "exception": false,
     "start_time": "2023-11-15T11:08:50.010967",
     "status": "completed"
    },
    "tags": []
   },
   "source": [
    "## Random Search hyperparameters"
   ]
  },
  {
   "cell_type": "code",
   "execution_count": 9,
   "id": "a28e269c",
   "metadata": {
    "execution": {
     "iopub.execute_input": "2023-11-15T11:08:50.033626Z",
     "iopub.status.busy": "2023-11-15T11:08:50.033369Z",
     "iopub.status.idle": "2023-11-15T11:14:39.575255Z",
     "shell.execute_reply": "2023-11-15T11:14:39.574395Z"
    },
    "papermill": {
     "duration": 349.560228,
     "end_time": "2023-11-15T11:14:39.585577",
     "exception": false,
     "start_time": "2023-11-15T11:08:50.025349",
     "status": "completed"
    },
    "tags": []
   },
   "outputs": [
    {
     "name": "stdout",
     "output_type": "stream",
     "text": [
      "CPU times: user 18min 19s, sys: 9.92 s, total: 18min 29s\n",
      "Wall time: 5min 49s\n"
     ]
    },
    {
     "data": {
      "text/html": [
       "<style>#sk-container-id-2 {color: black;background-color: white;}#sk-container-id-2 pre{padding: 0;}#sk-container-id-2 div.sk-toggleable {background-color: white;}#sk-container-id-2 label.sk-toggleable__label {cursor: pointer;display: block;width: 100%;margin-bottom: 0;padding: 0.3em;box-sizing: border-box;text-align: center;}#sk-container-id-2 label.sk-toggleable__label-arrow:before {content: \"▸\";float: left;margin-right: 0.25em;color: #696969;}#sk-container-id-2 label.sk-toggleable__label-arrow:hover:before {color: black;}#sk-container-id-2 div.sk-estimator:hover label.sk-toggleable__label-arrow:before {color: black;}#sk-container-id-2 div.sk-toggleable__content {max-height: 0;max-width: 0;overflow: hidden;text-align: left;background-color: #f0f8ff;}#sk-container-id-2 div.sk-toggleable__content pre {margin: 0.2em;color: black;border-radius: 0.25em;background-color: #f0f8ff;}#sk-container-id-2 input.sk-toggleable__control:checked~div.sk-toggleable__content {max-height: 200px;max-width: 100%;overflow: auto;}#sk-container-id-2 input.sk-toggleable__control:checked~label.sk-toggleable__label-arrow:before {content: \"▾\";}#sk-container-id-2 div.sk-estimator input.sk-toggleable__control:checked~label.sk-toggleable__label {background-color: #d4ebff;}#sk-container-id-2 div.sk-label input.sk-toggleable__control:checked~label.sk-toggleable__label {background-color: #d4ebff;}#sk-container-id-2 input.sk-hidden--visually {border: 0;clip: rect(1px 1px 1px 1px);clip: rect(1px, 1px, 1px, 1px);height: 1px;margin: -1px;overflow: hidden;padding: 0;position: absolute;width: 1px;}#sk-container-id-2 div.sk-estimator {font-family: monospace;background-color: #f0f8ff;border: 1px dotted black;border-radius: 0.25em;box-sizing: border-box;margin-bottom: 0.5em;}#sk-container-id-2 div.sk-estimator:hover {background-color: #d4ebff;}#sk-container-id-2 div.sk-parallel-item::after {content: \"\";width: 100%;border-bottom: 1px solid gray;flex-grow: 1;}#sk-container-id-2 div.sk-label:hover label.sk-toggleable__label {background-color: #d4ebff;}#sk-container-id-2 div.sk-serial::before {content: \"\";position: absolute;border-left: 1px solid gray;box-sizing: border-box;top: 0;bottom: 0;left: 50%;z-index: 0;}#sk-container-id-2 div.sk-serial {display: flex;flex-direction: column;align-items: center;background-color: white;padding-right: 0.2em;padding-left: 0.2em;position: relative;}#sk-container-id-2 div.sk-item {position: relative;z-index: 1;}#sk-container-id-2 div.sk-parallel {display: flex;align-items: stretch;justify-content: center;background-color: white;position: relative;}#sk-container-id-2 div.sk-item::before, #sk-container-id-2 div.sk-parallel-item::before {content: \"\";position: absolute;border-left: 1px solid gray;box-sizing: border-box;top: 0;bottom: 0;left: 50%;z-index: -1;}#sk-container-id-2 div.sk-parallel-item {display: flex;flex-direction: column;z-index: 1;position: relative;background-color: white;}#sk-container-id-2 div.sk-parallel-item:first-child::after {align-self: flex-end;width: 50%;}#sk-container-id-2 div.sk-parallel-item:last-child::after {align-self: flex-start;width: 50%;}#sk-container-id-2 div.sk-parallel-item:only-child::after {width: 0;}#sk-container-id-2 div.sk-dashed-wrapped {border: 1px dashed gray;margin: 0 0.4em 0.5em 0.4em;box-sizing: border-box;padding-bottom: 0.4em;background-color: white;}#sk-container-id-2 div.sk-label label {font-family: monospace;font-weight: bold;display: inline-block;line-height: 1.2em;}#sk-container-id-2 div.sk-label-container {text-align: center;}#sk-container-id-2 div.sk-container {/* jupyter's `normalize.less` sets `[hidden] { display: none; }` but bootstrap.min.css set `[hidden] { display: none !important; }` so we also need the `!important` here to be able to override the default hidden behavior on the sphinx rendered scikit-learn.org. See: https://github.com/scikit-learn/scikit-learn/issues/21755 */display: inline-block !important;position: relative;}#sk-container-id-2 div.sk-text-repr-fallback {display: none;}</style><div id=\"sk-container-id-2\" class=\"sk-top-container\"><div class=\"sk-text-repr-fallback\"><pre>RandomizedSearchCV(cv=5,\n",
       "                   estimator=XGBClassifier(base_score=None, booster=None,\n",
       "                                           callbacks=None,\n",
       "                                           colsample_bylevel=None,\n",
       "                                           colsample_bynode=None,\n",
       "                                           colsample_bytree=None,\n",
       "                                           early_stopping_rounds=None,\n",
       "                                           enable_categorical=False,\n",
       "                                           eval_metric=None, feature_types=None,\n",
       "                                           gamma=None, gpu_id=None,\n",
       "                                           grow_policy=None,\n",
       "                                           importance_type=None,\n",
       "                                           interaction_constraints=None,\n",
       "                                           learning_rate...\n",
       "                   param_distributions={&#x27;colsample_bytree&#x27;: &lt;scipy.stats._distn_infrastructure.rv_frozen object at 0x7e9613f47640&gt;,\n",
       "                                        &#x27;learning_rate&#x27;: &lt;scipy.stats._distn_infrastructure.rv_frozen object at 0x7e9603199030&gt;,\n",
       "                                        &#x27;min_child_weight&#x27;: &lt;scipy.stats._distn_infrastructure.rv_frozen object at 0x7e9613f47730&gt;,\n",
       "                                        &#x27;reg_alpha&#x27;: &lt;scipy.stats._distn_infrastructure.rv_frozen object at 0x7e9613f46b60&gt;},\n",
       "                   scoring=&#x27;roc_auc&#x27;)</pre><b>In a Jupyter environment, please rerun this cell to show the HTML representation or trust the notebook. <br />On GitHub, the HTML representation is unable to render, please try loading this page with nbviewer.org.</b></div><div class=\"sk-container\" hidden><div class=\"sk-item sk-dashed-wrapped\"><div class=\"sk-label-container\"><div class=\"sk-label sk-toggleable\"><input class=\"sk-toggleable__control sk-hidden--visually\" id=\"sk-estimator-id-2\" type=\"checkbox\" ><label for=\"sk-estimator-id-2\" class=\"sk-toggleable__label sk-toggleable__label-arrow\">RandomizedSearchCV</label><div class=\"sk-toggleable__content\"><pre>RandomizedSearchCV(cv=5,\n",
       "                   estimator=XGBClassifier(base_score=None, booster=None,\n",
       "                                           callbacks=None,\n",
       "                                           colsample_bylevel=None,\n",
       "                                           colsample_bynode=None,\n",
       "                                           colsample_bytree=None,\n",
       "                                           early_stopping_rounds=None,\n",
       "                                           enable_categorical=False,\n",
       "                                           eval_metric=None, feature_types=None,\n",
       "                                           gamma=None, gpu_id=None,\n",
       "                                           grow_policy=None,\n",
       "                                           importance_type=None,\n",
       "                                           interaction_constraints=None,\n",
       "                                           learning_rate...\n",
       "                   param_distributions={&#x27;colsample_bytree&#x27;: &lt;scipy.stats._distn_infrastructure.rv_frozen object at 0x7e9613f47640&gt;,\n",
       "                                        &#x27;learning_rate&#x27;: &lt;scipy.stats._distn_infrastructure.rv_frozen object at 0x7e9603199030&gt;,\n",
       "                                        &#x27;min_child_weight&#x27;: &lt;scipy.stats._distn_infrastructure.rv_frozen object at 0x7e9613f47730&gt;,\n",
       "                                        &#x27;reg_alpha&#x27;: &lt;scipy.stats._distn_infrastructure.rv_frozen object at 0x7e9613f46b60&gt;},\n",
       "                   scoring=&#x27;roc_auc&#x27;)</pre></div></div></div><div class=\"sk-parallel\"><div class=\"sk-parallel-item\"><div class=\"sk-item\"><div class=\"sk-label-container\"><div class=\"sk-label sk-toggleable\"><input class=\"sk-toggleable__control sk-hidden--visually\" id=\"sk-estimator-id-3\" type=\"checkbox\" ><label for=\"sk-estimator-id-3\" class=\"sk-toggleable__label sk-toggleable__label-arrow\">estimator: XGBClassifier</label><div class=\"sk-toggleable__content\"><pre>XGBClassifier(base_score=None, booster=None, callbacks=None,\n",
       "              colsample_bylevel=None, colsample_bynode=None,\n",
       "              colsample_bytree=None, early_stopping_rounds=None,\n",
       "              enable_categorical=False, eval_metric=None, feature_types=None,\n",
       "              gamma=None, gpu_id=None, grow_policy=None, importance_type=None,\n",
       "              interaction_constraints=None, learning_rate=None, max_bin=None,\n",
       "              max_cat_threshold=None, max_cat_to_onehot=None,\n",
       "              max_delta_step=None, max_depth=None, max_leaves=None,\n",
       "              min_child_weight=None, missing=nan, monotone_constraints=None,\n",
       "              n_estimators=100, n_jobs=None, num_parallel_tree=None,\n",
       "              predictor=None, random_state=None, ...)</pre></div></div></div><div class=\"sk-serial\"><div class=\"sk-item\"><div class=\"sk-estimator sk-toggleable\"><input class=\"sk-toggleable__control sk-hidden--visually\" id=\"sk-estimator-id-4\" type=\"checkbox\" ><label for=\"sk-estimator-id-4\" class=\"sk-toggleable__label sk-toggleable__label-arrow\">XGBClassifier</label><div class=\"sk-toggleable__content\"><pre>XGBClassifier(base_score=None, booster=None, callbacks=None,\n",
       "              colsample_bylevel=None, colsample_bynode=None,\n",
       "              colsample_bytree=None, early_stopping_rounds=None,\n",
       "              enable_categorical=False, eval_metric=None, feature_types=None,\n",
       "              gamma=None, gpu_id=None, grow_policy=None, importance_type=None,\n",
       "              interaction_constraints=None, learning_rate=None, max_bin=None,\n",
       "              max_cat_threshold=None, max_cat_to_onehot=None,\n",
       "              max_delta_step=None, max_depth=None, max_leaves=None,\n",
       "              min_child_weight=None, missing=nan, monotone_constraints=None,\n",
       "              n_estimators=100, n_jobs=None, num_parallel_tree=None,\n",
       "              predictor=None, random_state=None, ...)</pre></div></div></div></div></div></div></div></div></div></div>"
      ],
      "text/plain": [
       "RandomizedSearchCV(cv=5,\n",
       "                   estimator=XGBClassifier(base_score=None, booster=None,\n",
       "                                           callbacks=None,\n",
       "                                           colsample_bylevel=None,\n",
       "                                           colsample_bynode=None,\n",
       "                                           colsample_bytree=None,\n",
       "                                           early_stopping_rounds=None,\n",
       "                                           enable_categorical=False,\n",
       "                                           eval_metric=None, feature_types=None,\n",
       "                                           gamma=None, gpu_id=None,\n",
       "                                           grow_policy=None,\n",
       "                                           importance_type=None,\n",
       "                                           interaction_constraints=None,\n",
       "                                           learning_rate...\n",
       "                   param_distributions={'colsample_bytree': <scipy.stats._distn_infrastructure.rv_frozen object at 0x7e9613f47640>,\n",
       "                                        'learning_rate': <scipy.stats._distn_infrastructure.rv_frozen object at 0x7e9603199030>,\n",
       "                                        'min_child_weight': <scipy.stats._distn_infrastructure.rv_frozen object at 0x7e9613f47730>,\n",
       "                                        'reg_alpha': <scipy.stats._distn_infrastructure.rv_frozen object at 0x7e9613f46b60>},\n",
       "                   scoring='roc_auc')"
      ]
     },
     "execution_count": 9,
     "metadata": {},
     "output_type": "execute_result"
    }
   ],
   "source": [
    "%%time\n",
    "import scipy.stats as stats\n",
    "\n",
    "param_dist = {\n",
    "    \"min_child_weight\": stats.uniform(0, 5),\n",
    "    \"colsample_bytree\": stats.uniform(0.5, 0.5),\n",
    "    \"reg_alpha\": stats.uniform(0, 1),\n",
    "    \"learning_rate\": stats.uniform(0.01, 0.5)\n",
    "}\n",
    "\n",
    "estim = xgb.XGBClassifier(tree_method='gpu_hist')\n",
    "random_search = RandomizedSearchCV(estim, param_dist, n_iter=25, cv=5, scoring=\"roc_auc\")\n",
    "random_search.fit(X_train, y_train)"
   ]
  },
  {
   "cell_type": "markdown",
   "id": "27388ad3",
   "metadata": {
    "papermill": {
     "duration": 0.007783,
     "end_time": "2023-11-15T11:14:39.601108",
     "exception": false,
     "start_time": "2023-11-15T11:14:39.593325",
     "status": "completed"
    },
    "tags": []
   },
   "source": [
    "## Train Model using best parameters of Grid Search and Random Search"
   ]
  },
  {
   "cell_type": "code",
   "execution_count": 10,
   "id": "2abfbe7e",
   "metadata": {
    "execution": {
     "iopub.execute_input": "2023-11-15T11:14:39.618501Z",
     "iopub.status.busy": "2023-11-15T11:14:39.617714Z",
     "iopub.status.idle": "2023-11-15T11:14:39.622030Z",
     "shell.execute_reply": "2023-11-15T11:14:39.621144Z"
    },
    "papermill": {
     "duration": 0.015081,
     "end_time": "2023-11-15T11:14:39.624108",
     "exception": false,
     "start_time": "2023-11-15T11:14:39.609027",
     "status": "completed"
    },
    "tags": []
   },
   "outputs": [],
   "source": [
    "best_p = random_search.best_params_"
   ]
  },
  {
   "cell_type": "code",
   "execution_count": 11,
   "id": "ad068095",
   "metadata": {
    "execution": {
     "iopub.execute_input": "2023-11-15T11:14:39.641119Z",
     "iopub.status.busy": "2023-11-15T11:14:39.640558Z",
     "iopub.status.idle": "2023-11-15T11:14:43.520923Z",
     "shell.execute_reply": "2023-11-15T11:14:43.520056Z"
    },
    "papermill": {
     "duration": 3.891109,
     "end_time": "2023-11-15T11:14:43.523197",
     "exception": false,
     "start_time": "2023-11-15T11:14:39.632088",
     "status": "completed"
    },
    "tags": []
   },
   "outputs": [
    {
     "name": "stdout",
     "output_type": "stream",
     "text": [
      "accuracy_score: 0.91664\n",
      "f1_score: 0.3681018799272286\n",
      "roc_auc_score: 0.6163779197911664\n",
      "precision_score: 0.7903645833333334\n",
      "recall_score: 0.2399209486166008\n"
     ]
    }
   ],
   "source": [
    "model = xgb.XGBClassifier(**best_p, tree_method='gpu_hist', early_stopping_rounds=2, n_estimators=1000)\n",
    "model.fit(X_train, y_train, eval_set=[(X_val, y_val)], verbose=0)\n",
    "validate_model(model, X_val, y_val)"
   ]
  },
  {
   "cell_type": "markdown",
   "id": "f975f83b",
   "metadata": {
    "papermill": {
     "duration": 0.007591,
     "end_time": "2023-11-15T11:14:43.538903",
     "exception": false,
     "start_time": "2023-11-15T11:14:43.531312",
     "status": "completed"
    },
    "tags": []
   },
   "source": [
    "## Try Baesian Optimization (Hyperopt)"
   ]
  },
  {
   "cell_type": "code",
   "execution_count": 12,
   "id": "78ade854",
   "metadata": {
    "execution": {
     "iopub.execute_input": "2023-11-15T11:14:43.555608Z",
     "iopub.status.busy": "2023-11-15T11:14:43.555321Z",
     "iopub.status.idle": "2023-11-15T11:19:57.374454Z",
     "shell.execute_reply": "2023-11-15T11:19:57.373499Z"
    },
    "papermill": {
     "duration": 313.837354,
     "end_time": "2023-11-15T11:19:57.384067",
     "exception": false,
     "start_time": "2023-11-15T11:14:43.546713",
     "status": "completed"
    },
    "tags": []
   },
   "outputs": [
    {
     "name": "stdout",
     "output_type": "stream",
     "text": [
      "100%|██████████| 100/100 [05:13<00:00,  3.13s/trial, best loss: -0.6590125437342016]\n"
     ]
    }
   ],
   "source": [
    "from hyperopt import fmin, tpe, hp\n",
    "\n",
    "space = {\n",
    "    \"min_child_weight\": hp.uniform(\"min_child_weight\",0, 5),\n",
    "    \"colsample_bytree\": hp.uniform(\"colsample_bytree\", 0.5, 1),\n",
    "    \"reg_alpha\": hp.uniform(\"reg_alpha\", 0, 1),\n",
    "    \"learning_rate\": hp.uniform(\"learning_rate\", 0.01, 0.5),\n",
    "    \"subsample\": hp.uniform(\"subsample\",0.5, 1),\n",
    "    \"max_depth\": hp.choice(\"max_depth\", range(3,8))\n",
    "}\n",
    "\n",
    "def objective(params):\n",
    "    xg_model = xgb.XGBClassifier(**params, tree_method='gpu_hist')\n",
    "    xg_model.fit(X_train, y_train)\n",
    "    y_pred = xg_model.predict(X_val)\n",
    "    loss = roc_auc_score(y_val, y_pred)\n",
    "    return -loss\n",
    "\n",
    "best_params = fmin(objective, space, algo=tpe.suggest, max_evals=100)"
   ]
  },
  {
   "cell_type": "code",
   "execution_count": 13,
   "id": "3c0cbeb1",
   "metadata": {
    "execution": {
     "iopub.execute_input": "2023-11-15T11:19:57.416477Z",
     "iopub.status.busy": "2023-11-15T11:19:57.415907Z",
     "iopub.status.idle": "2023-11-15T11:20:01.162570Z",
     "shell.execute_reply": "2023-11-15T11:20:01.161499Z"
    },
    "papermill": {
     "duration": 3.765549,
     "end_time": "2023-11-15T11:20:01.165100",
     "exception": false,
     "start_time": "2023-11-15T11:19:57.399551",
     "status": "completed"
    },
    "tags": []
   },
   "outputs": [
    {
     "name": "stdout",
     "output_type": "stream",
     "text": [
      "accuracy_score: 0.91848\n",
      "f1_score: 0.38017031630170317\n",
      "roc_auc_score: 0.6215461673910926\n",
      "precision_score: 0.7871536523929471\n",
      "recall_score: 0.25060144346431434\n"
     ]
    }
   ],
   "source": [
    "# best_params\n",
    "model = xgb.XGBClassifier(**best_params, tree_method='gpu_hist', early_stopping_rounds=2, n_estimators=1000)\n",
    "model.fit(X_train, y_train, eval_set=[(X_val, y_val)], verbose=0)\n",
    "validate_model(model, X_test, y_test)"
   ]
  },
  {
   "cell_type": "markdown",
   "id": "fe9b37f2",
   "metadata": {
    "papermill": {
     "duration": 0.015466,
     "end_time": "2023-11-15T11:20:01.197003",
     "exception": false,
     "start_time": "2023-11-15T11:20:01.181537",
     "status": "completed"
    },
    "tags": []
   },
   "source": [
    "# Imbalance Data Handling techniques"
   ]
  },
  {
   "cell_type": "code",
   "execution_count": 14,
   "id": "119267ff",
   "metadata": {
    "execution": {
     "iopub.execute_input": "2023-11-15T11:20:01.229263Z",
     "iopub.status.busy": "2023-11-15T11:20:01.228938Z",
     "iopub.status.idle": "2023-11-15T11:20:01.235626Z",
     "shell.execute_reply": "2023-11-15T11:20:01.234847Z"
    },
    "papermill": {
     "duration": 0.024837,
     "end_time": "2023-11-15T11:20:01.237368",
     "exception": false,
     "start_time": "2023-11-15T11:20:01.212531",
     "status": "completed"
    },
    "tags": []
   },
   "outputs": [],
   "source": [
    "# we need to try a couple of techniques to handle imbalanced data.\n",
    "# so we create a function that raises and evaluates the model\n",
    "def model_testing(parameters, train_set, val_set, n_estimators=200):\n",
    "    model = xgb.XGBClassifier(**parameters, tree_method='gpu_hist', early_stopping_rounds=2, n_estimators=n_estimators)\n",
    "    model.fit(train_set[0], train_set[1], eval_set=[val_set], verbose=0)\n",
    "    \n",
    "    validate_model(model, val_set[0], val_set[1])\n",
    "    return model\n",
    "    \n",
    "    \n",
    "def make_submission(model, data):\n",
    "    ids = data['ID_code']\n",
    "    preds = model.predict_proba(data.iloc[:, 1:])\n",
    "    pd.DataFrame(data=zip(ids, preds[:,1]), columns=['ID_code', 'target']).to_csv(\"submission.csv\")\n",
    "\n",
    "    "
   ]
  },
  {
   "cell_type": "markdown",
   "id": "cb10c7a6",
   "metadata": {
    "papermill": {
     "duration": 0.015289,
     "end_time": "2023-11-15T11:20:01.268145",
     "exception": false,
     "start_time": "2023-11-15T11:20:01.252856",
     "status": "completed"
    },
    "tags": []
   },
   "source": [
    "## 1) Undersampling"
   ]
  },
  {
   "cell_type": "code",
   "execution_count": 15,
   "id": "3ce1d484",
   "metadata": {
    "execution": {
     "iopub.execute_input": "2023-11-15T11:20:01.300279Z",
     "iopub.status.busy": "2023-11-15T11:20:01.299774Z",
     "iopub.status.idle": "2023-11-15T11:20:01.659338Z",
     "shell.execute_reply": "2023-11-15T11:20:01.658351Z"
    },
    "papermill": {
     "duration": 0.378342,
     "end_time": "2023-11-15T11:20:01.661734",
     "exception": false,
     "start_time": "2023-11-15T11:20:01.283392",
     "status": "completed"
    },
    "tags": []
   },
   "outputs": [],
   "source": [
    "df_train_pos = df_train[df_train['target'] == 1]\n",
    "df_train_neg = df_train[df_train['target'] == 0].sample(20098)\n",
    "\n",
    "\n",
    "df_train_reduced = pd.concat((df_train_pos, df_train_neg), axis=0).sample(40196)\n",
    "X_train, X_val, y_train, y_val = train_test_split(df_train_reduced.iloc[:, 2:], df_train_reduced['target'], test_size=0.5)\n",
    "X_val, X_test, y_val, y_test = train_test_split(X_val, y_val, test_size=0.5)"
   ]
  },
  {
   "cell_type": "code",
   "execution_count": 16,
   "id": "864313c8",
   "metadata": {
    "execution": {
     "iopub.execute_input": "2023-11-15T11:20:01.695222Z",
     "iopub.status.busy": "2023-11-15T11:20:01.694704Z",
     "iopub.status.idle": "2023-11-15T11:21:11.975574Z",
     "shell.execute_reply": "2023-11-15T11:21:11.974690Z"
    },
    "papermill": {
     "duration": 70.299581,
     "end_time": "2023-11-15T11:21:11.977486",
     "exception": false,
     "start_time": "2023-11-15T11:20:01.677905",
     "status": "completed"
    },
    "tags": []
   },
   "outputs": [
    {
     "name": "stdout",
     "output_type": "stream",
     "text": [
      "100%|██████████| 100/100 [01:10<00:00,  1.42trial/s, best loss: -0.776473069741317]\n"
     ]
    }
   ],
   "source": [
    "space = {\n",
    "    \"min_child_weight\": hp.uniform(\"min_child_weight\",0, 5),\n",
    "    \"colsample_bytree\": hp.uniform(\"colsample_bytree\", 0.5, 1),\n",
    "    \"reg_alpha\": hp.uniform(\"reg_alpha\", 0, 1),\n",
    "    \"learning_rate\": hp.uniform(\"learning_rate\", 0.01, 0.5),\n",
    "    \"subsample\": hp.uniform(\"subsample\",0.5, 1),\n",
    "    \"max_depth\": hp.choice(\"max_depth\", range(3,8))\n",
    "}\n",
    "\n",
    "def objective(params):\n",
    "    xg_model = xgb.XGBClassifier(**params, tree_method='gpu_hist')\n",
    "    xg_model.fit(X_train, y_train)\n",
    "    y_pred = xg_model.predict(X_val)\n",
    "    loss = roc_auc_score(y_val, y_pred)\n",
    "    return -loss\n",
    "\n",
    "best_params = fmin(objective, space, algo=tpe.suggest, max_evals=100)"
   ]
  },
  {
   "cell_type": "code",
   "execution_count": 17,
   "id": "cb7591cf",
   "metadata": {
    "execution": {
     "iopub.execute_input": "2023-11-15T11:21:12.026159Z",
     "iopub.status.busy": "2023-11-15T11:21:12.025831Z",
     "iopub.status.idle": "2023-11-15T11:21:14.697345Z",
     "shell.execute_reply": "2023-11-15T11:21:14.696507Z"
    },
    "papermill": {
     "duration": 2.698051,
     "end_time": "2023-11-15T11:21:14.699613",
     "exception": false,
     "start_time": "2023-11-15T11:21:12.001562",
     "status": "completed"
    },
    "tags": []
   },
   "outputs": [
    {
     "name": "stdout",
     "output_type": "stream",
     "text": [
      "accuracy_score: 0.793909841775301\n",
      "f1_score: 0.787916026625704\n",
      "roc_auc_score: 0.7938851672253123\n",
      "precision_score: 0.8107481559536354\n",
      "recall_score: 0.7663346613545817\n"
     ]
    }
   ],
   "source": [
    "model = model_testing(best_params, (X_train, y_train), (X_val, y_val), 1000)\n",
    "make_submission(model, df_test)"
   ]
  },
  {
   "cell_type": "markdown",
   "id": "911c3dbc",
   "metadata": {
    "papermill": {
     "duration": 0.022731,
     "end_time": "2023-11-15T11:21:14.745955",
     "exception": false,
     "start_time": "2023-11-15T11:21:14.723224",
     "status": "completed"
    },
    "tags": []
   },
   "source": [
    "## Oversampling"
   ]
  },
  {
   "cell_type": "code",
   "execution_count": null,
   "id": "f41d9c9c",
   "metadata": {
    "execution": {
     "iopub.execute_input": "2023-11-15T10:58:22.486184Z",
     "iopub.status.busy": "2023-11-15T10:58:22.485287Z",
     "iopub.status.idle": "2023-11-15T10:58:28.026266Z",
     "shell.execute_reply": "2023-11-15T10:58:28.025326Z",
     "shell.execute_reply.started": "2023-11-15T10:58:22.486151Z"
    },
    "papermill": {
     "duration": 0.022618,
     "end_time": "2023-11-15T11:21:14.791505",
     "exception": false,
     "start_time": "2023-11-15T11:21:14.768887",
     "status": "completed"
    },
    "tags": []
   },
   "outputs": [],
   "source": []
  }
 ],
 "metadata": {
  "kaggle": {
   "accelerator": "gpu",
   "dataSources": [
    {
     "databundleVersionId": 298493,
     "sourceId": 10385,
     "sourceType": "competition"
    }
   ],
   "dockerImageVersionId": 30558,
   "isGpuEnabled": true,
   "isInternetEnabled": true,
   "language": "python",
   "sourceType": "notebook"
  },
  "kernelspec": {
   "display_name": "Python 3",
   "language": "python",
   "name": "python3"
  },
  "language_info": {
   "codemirror_mode": {
    "name": "ipython",
    "version": 3
   },
   "file_extension": ".py",
   "mimetype": "text/x-python",
   "name": "python",
   "nbconvert_exporter": "python",
   "pygments_lexer": "ipython3",
   "version": "3.10.12"
  },
  "papermill": {
   "default_parameters": {},
   "duration": 785.171254,
   "end_time": "2023-11-15T11:21:15.334367",
   "environment_variables": {},
   "exception": null,
   "input_path": "__notebook__.ipynb",
   "output_path": "__notebook__.ipynb",
   "parameters": {},
   "start_time": "2023-11-15T11:08:10.163113",
   "version": "2.4.0"
  }
 },
 "nbformat": 4,
 "nbformat_minor": 5
}
